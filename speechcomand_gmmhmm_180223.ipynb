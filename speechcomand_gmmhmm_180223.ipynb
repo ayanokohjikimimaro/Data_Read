{
  "nbformat": 4,
  "nbformat_minor": 0,
  "metadata": {
    "colab": {
      "name": "speechcomand_gmmhmm_180223",
      "version": "0.3.2",
      "provenance": [],
      "collapsed_sections": [],
      "toc_visible": true,
      "include_colab_link": true
    },
    "kernelspec": {
      "name": "python3",
      "display_name": "Python 3"
    }
  },
  "cells": [
    {
      "cell_type": "markdown",
      "metadata": {
        "id": "view-in-github",
        "colab_type": "text"
      },
      "source": [
        "<a href=\"https://colab.research.google.com/github/ayanokohjikimimaro/Data_Read/blob/master/speechcomand_gmmhmm_180223.ipynb\" target=\"_parent\"><img src=\"https://colab.research.google.com/assets/colab-badge.svg\" alt=\"Open In Colab\"/></a>"
      ]
    },
    {
      "metadata": {
        "id": "-usfhRg7qvmQ",
        "colab_type": "text"
      },
      "cell_type": "markdown",
      "source": [
        "Hidden Markov Models (HMMs) are powerful, flexible methods for representing and classifying data with trends over time, and have been a key component in speech recognition systems for many years.\n",
        "\n",
        "I found it very difficult to find a good example (with code) of a simple speech recognition system, so I decided to create this post. Though this implementation won't win any awards for \"Best Speech Recognizer\", I hope it will provide some insight into how HMMs can be used for speech recognition and other tasks.\n",
        "<!-- TEASER_END -->\n",
        "\n",
        "In this post, I will define what Hidden Markov Models are, show how to implement one form (Gaussian Mixture Model HMM, GMM-HMM) using numpy + scipy, and how to use this algorithm for single speaker speech recognition. For a more \"production grade\" HMM implementation, see [hmmlearn](https://github.com/hmmlearn/hmmlearn) which holds the HMM implementations that were formerly a part of [sklearn](http://scikit-learn.org/stable/)."
      ]
    },
    {
      "metadata": {
        "id": "EYyj-bBLW6Cm",
        "colab_type": "text"
      },
      "cell_type": "markdown",
      "source": [
        "隠れマルコフモデル（ＨＭＭ）は、経時的傾向と共にデータを表現し分類するための強力で柔軟な方法であり、長年にわたり音声認識システムにおける重要な構成要素であった。\n",
        "\n",
        "簡単な音声認識システムの良い例（コード付き）を見つけるのは非常に難しいので、この記事を作成することにしました。 この実装は \"Best Speech Recognizer\"の賞を受賞することはありませんが、HMMを音声認識やその他のタスクに使用する方法についての洞察を提供することを願っています。\n",
        "<！ -  TEASER_END  - >\n",
        "\n",
        "この記事では、隠れマルコフモデルとは何かを定義し、numpy + scipyを使用して1つの形式（ガウス混合モデルHMM、GMM-HMM）を実装する方法、およびこのアルゴリズムを単一話者音声認識に使用する方法を示します。 より「プロダクショングレード」のHMM実装については、以前は[sklearn]（http：// scikit-learn）の一部であったHMM実装を保持している[hmmlearn]（https://github.com/hmmlearn/hmmlearn）を参照してください。 org / stable /）"
      ]
    },
    {
      "metadata": {
        "id": "cizkxjb-qvmZ",
        "colab_type": "text"
      },
      "cell_type": "markdown",
      "source": [
        "Data\n",
        "----\n",
        "\n",
        "To demonstrate this algorithm, we need a dataset to operate on. I have chosen to use the sample dataset from [this Google Code project by Hakon Sandsmark](https://code.google.com/p/hmm-speech-recognition/downloads/list). I also used this code as a reference when creating my own implementation of a Guassian Mixture Model HMM (GMM-HMM). This aided in testing my implementation, as well as giving a frame of reference for performance. \n",
        "\n",
        "Other available datasets are largely multispeaker, but the simple frequency peak features used in this example do not work in the multispeaker regime (different speakers have different frequency content for the same word! Let alone male/female speech differences). Future work will cover more advanced feature extraction techniques for audio, and extend these examples to multispeaker recognition."
      ]
    },
    {
      "metadata": {
        "id": "hSmNaZNZXCVA",
        "colab_type": "text"
      },
      "cell_type": "markdown",
      "source": [
        "このアルゴリズムを実演するためには、操作するデータセットが必要です。 Hakon SandsmarkによるこのGoogle Codeプロジェクトのサンプルデータセットを使用することにしました。 私はGuassian混合モデルHMM（GMM-HMM）の私自身の実装を作成するときに参照としてこのコードも使いました。 これは私の実装をテストするのを助け、そしてパフォーマンスのための基準の枠組みを与えるのを助けました。\n",
        "\n",
        "他の利用可能なデータセットは主にマルチスピーカーですが、この例で使用されている単純な周波数ピーク機能はマルチスピーカー体制では機能しません（同じ単語に対して異なるスピーカーは異なる周波数成分を持っています！ 今後の作業では、オーディオ用のより高度な特徴抽出手法を取り上げ、これらの例をマルチスピーカー認識に拡張します。"
      ]
    },
    {
      "metadata": {
        "id": "yI55akHaJomx",
        "colab_type": "text"
      },
      "cell_type": "markdown",
      "source": [
        "# Drive Linked"
      ]
    },
    {
      "metadata": {
        "id": "y7oG5AzdCnKX",
        "colab_type": "code",
        "outputId": "8d2cca5c-e8b5-406a-c918-ba1ad4ebcbe8",
        "colab": {
          "base_uri": "https://localhost:8080/",
          "height": 122
        }
      },
      "cell_type": "code",
      "source": [
        "from google.colab import drive\n",
        "drive.mount('/content/drive')"
      ],
      "execution_count": 0,
      "outputs": [
        {
          "output_type": "stream",
          "text": [
            "Go to this URL in a browser: https://accounts.google.com/o/oauth2/auth?client_id=947318989803-6bn6qk8qdgf4n4g3pfee6491hc0brc4i.apps.googleusercontent.com&redirect_uri=urn%3Aietf%3Awg%3Aoauth%3A2.0%3Aoob&scope=email%20https%3A%2F%2Fwww.googleapis.com%2Fauth%2Fdocs.test%20https%3A%2F%2Fwww.googleapis.com%2Fauth%2Fdrive%20https%3A%2F%2Fwww.googleapis.com%2Fauth%2Fdrive.photos.readonly%20https%3A%2F%2Fwww.googleapis.com%2Fauth%2Fpeopleapi.readonly&response_type=code\n",
            "\n",
            "Enter your authorization code:\n",
            "··········\n",
            "Mounted at /content/drive\n"
          ],
          "name": "stdout"
        }
      ]
    },
    {
      "metadata": {
        "id": "fI4mjM-FQaE8",
        "colab_type": "code",
        "outputId": "5d113c1e-2949-435e-960e-5d301da21760",
        "colab": {
          "base_uri": "https://localhost:8080/",
          "height": 204
        }
      },
      "cell_type": "code",
      "source": [
        "!pip install librosa\n",
        "import os\n",
        "import pandas as pd\n",
        "import numpy as np\n",
        "import matplotlib.pyplot as plt\n",
        "import librosa\n",
        "import librosa.display\n",
        "import glob\n",
        "from matplotlib.colors import ListedColormap\n",
        "import warnings\n",
        "from sklearn.tree import DecisionTreeClassifier\n",
        "from sklearn.model_selection import cross_val_score\n",
        "from sklearn.decomposition import PCA\n",
        "import pickle\n",
        "from IPython.display import Image\n",
        "from sklearn.model_selection import StratifiedKFold, GridSearchCV\n",
        "from sklearn import svm\n",
        "import scipy as sp\n",
        "from sklearn.metrics import confusion_matrix\n",
        "import seaborn as sns\n",
        "from sklearn.ensemble import RandomForestRegressor\n",
        "from sklearn.model_selection import train_test_split\n",
        "from sklearn.preprocessing import StandardScaler\n",
        "from sklearn.neighbors import KNeighborsClassifier\n",
        "from sklearn import metrics\n",
        "import time\n",
        "from scipy import signal\n",
        "from scipy.io import wavfile\n",
        "from numpy.lib.stride_tricks import as_strided\n",
        "import scipy.stats as st"
      ],
      "execution_count": 0,
      "outputs": [
        {
          "output_type": "stream",
          "text": [
            "Requirement already satisfied: librosa in /usr/local/lib/python3.6/dist-packages (0.6.3)\n",
            "Requirement already satisfied: audioread>=2.0.0 in /usr/local/lib/python3.6/dist-packages (from librosa) (2.1.6)\n",
            "Requirement already satisfied: numpy>=1.8.0 in /usr/local/lib/python3.6/dist-packages (from librosa) (1.14.6)\n",
            "Requirement already satisfied: scipy>=1.0.0 in /usr/local/lib/python3.6/dist-packages (from librosa) (1.1.0)\n",
            "Requirement already satisfied: scikit-learn!=0.19.0,>=0.14.0 in /usr/local/lib/python3.6/dist-packages (from librosa) (0.20.2)\n",
            "Requirement already satisfied: joblib>=0.12 in /usr/local/lib/python3.6/dist-packages (from librosa) (0.13.2)\n",
            "Requirement already satisfied: decorator>=3.0.0 in /usr/local/lib/python3.6/dist-packages (from librosa) (4.3.2)\n",
            "Requirement already satisfied: six>=1.3 in /usr/local/lib/python3.6/dist-packages (from librosa) (1.11.0)\n",
            "Requirement already satisfied: resampy>=0.2.0 in /usr/local/lib/python3.6/dist-packages (from librosa) (0.2.1)\n",
            "Requirement already satisfied: numba>=0.38.0 in /usr/local/lib/python3.6/dist-packages (from librosa) (0.40.1)\n",
            "Requirement already satisfied: llvmlite>=0.25.0dev0 in /usr/local/lib/python3.6/dist-packages (from numba>=0.38.0->librosa) (0.27.1)\n"
          ],
          "name": "stdout"
        }
      ]
    },
    {
      "metadata": {
        "id": "e8JNrTgKz4u2",
        "colab_type": "code",
        "colab": {}
      },
      "cell_type": "code",
      "source": [
        "def calculate_melsp(x, n_fft=64, hop_length=32):#1024,128\n",
        "    stft = np.abs(librosa.stft(x, n_fft=n_fft, hop_length=hop_length))**2\n",
        "    log_stft = librosa.power_to_db(stft)\n",
        "    melsp = librosa.feature.melspectrogram(S=log_stft,n_mels=128)\n",
        "    return melsp\n",
        "\n",
        "def peakfind(x, n_peaks, l_size=1, r_size=1, c_size=1, f=np.mean):\n",
        "    win_size = l_size + r_size + c_size\n",
        "    shape = x.shape[:-1] + (x.shape[-1] - win_size + 1, win_size)\n",
        "    strides = x.strides + (x.strides[-1],)\n",
        "    xs = as_strided(x, shape=shape, strides=strides)\n",
        "    def is_peak(x):\n",
        "        centered = (np.argmax(x) == l_size + int(c_size/2))\n",
        "        l = x[:l_size]\n",
        "        c = x[l_size:l_size + c_size]\n",
        "        r = x[-r_size:]\n",
        "        passes = np.max(c) > np.max([f(l), f(r)])\n",
        "        if centered and passes:\n",
        "            return np.max(c)\n",
        "        else:\n",
        "            return -1\n",
        "    r = np.apply_along_axis(is_peak, 1, xs)\n",
        "    top = np.argsort(r, None)[::-1]\n",
        "    heights = r[top[:n_peaks]]\n",
        "    #Add l_size and half - 1 of center size to get to actual peak location\n",
        "    top[top > -1] = top[top > -1] + l_size + int(c_size / 2.)\n",
        "    return heights, top[:n_peaks]\n",
        "\n",
        "class gmmhmm:\n",
        "    #This class converted with modifications from https://code.google.com/p/hmm-speech-recognition/source/browse/Word.m\n",
        "    def __init__(self, n_states):\n",
        "        self.n_states = n_states\n",
        "        self.random_state = np.random.RandomState(0)\n",
        "        \n",
        "        #Normalize random initial state\n",
        "        self.prior = self._normalize(self.random_state.rand(self.n_states, 1))\n",
        "        self.A = self._stochasticize(self.random_state.rand(self.n_states, self.n_states))\n",
        "        \n",
        "        self.mu = None\n",
        "        self.covs = None\n",
        "        self.n_dims = None\n",
        "           \n",
        "    def _forward(self, B):\n",
        "        log_likelihood = 0.\n",
        "        T = B.shape[1]\n",
        "        alpha = np.zeros(B.shape)\n",
        "        for t in range(T):\n",
        "            if t == 0:\n",
        "                alpha[:, t] = B[:, t] * self.prior.ravel()\n",
        "            else:\n",
        "                alpha[:, t] = B[:, t] * np.dot(self.A.T, alpha[:, t - 1])\n",
        "         \n",
        "            alpha_sum = np.sum(alpha[:, t])\n",
        "            alpha[:, t] /= alpha_sum\n",
        "            log_likelihood = log_likelihood + np.log(alpha_sum)\n",
        "        return log_likelihood, alpha\n",
        "    \n",
        "    def _backward(self, B):\n",
        "        T = B.shape[1]\n",
        "        beta = np.zeros(B.shape);\n",
        "           \n",
        "        beta[:, -1] = np.ones(B.shape[0])\n",
        "            \n",
        "        for t in range(T - 1)[::-1]:\n",
        "            beta[:, t] = np.dot(self.A, (B[:, t + 1] * beta[:, t + 1]))\n",
        "            beta[:, t] /= np.sum(beta[:, t])\n",
        "        return beta\n",
        "    \n",
        "    def _state_likelihood(self, obs):\n",
        "        obs = np.atleast_2d(obs)\n",
        "        B = np.zeros((self.n_states, obs.shape[1]))\n",
        "        for s in range(self.n_states):\n",
        "            #Needs scipy 0.14\n",
        "            np.random.seed(self.random_state.randint(1))\n",
        "            B[s, :] = st.multivariate_normal.pdf(\n",
        "                obs.T, mean=self.mu[:, s].T, cov=self.covs[:, :, s].T)\n",
        "            #This function can (and will!) return values >> 1\n",
        "            #See the discussion here for the equivalent matlab function\n",
        "            #https://groups.google.com/forum/#!topic/comp.soft-sys.matlab/YksWK0T74Ak\n",
        "            #Key line: \"Probabilities have to be less than 1,\n",
        "            #Densities can be anything, even infinite (at individual points).\"\n",
        "            #This is evaluating the density at individual points...\n",
        "        return B\n",
        "    \n",
        "    def _normalize(self, x):\n",
        "        return (x + (x == 0)) / np.sum(x)\n",
        "    \n",
        "    def _stochasticize(self, x):\n",
        "        return (x + (x == 0)) / np.sum(x, axis=1)\n",
        "    \n",
        "    def _em_init(self, obs):\n",
        "        #Using this _em_init function allows for less required constructor args\n",
        "        if self.n_dims is None:\n",
        "            self.n_dims = obs.shape[0]\n",
        "        if self.mu is None:\n",
        "            subset = self.random_state.choice(np.arange(self.n_dims), size=self.n_states, replace=False)\n",
        "            self.mu = obs[:, subset]\n",
        "        if self.covs is None:\n",
        "            self.covs = np.zeros((self.n_dims, self.n_dims, self.n_states))\n",
        "            self.covs += np.diag(np.diag(np.cov(obs)))[:, :, None]\n",
        "        return self\n",
        "    \n",
        "    def _em_step(self, obs): \n",
        "        obs = np.atleast_2d(obs)\n",
        "        B = self._state_likelihood(obs)\n",
        "        T = obs.shape[1]\n",
        "        \n",
        "        log_likelihood, alpha = self._forward(B)\n",
        "        beta = self._backward(B)\n",
        "        \n",
        "        xi_sum = np.zeros((self.n_states, self.n_states))\n",
        "        gamma = np.zeros((self.n_states, T))\n",
        "        \n",
        "        for t in range(T - 1):\n",
        "            partial_sum = self.A * np.dot(alpha[:, t], (beta[:, t] * B[:, t + 1]).T)\n",
        "            xi_sum += self._normalize(partial_sum)\n",
        "            partial_g = alpha[:, t] * beta[:, t]\n",
        "            gamma[:, t] = self._normalize(partial_g)\n",
        "              \n",
        "        partial_g = alpha[:, -1] * beta[:, -1]\n",
        "        gamma[:, -1] = self._normalize(partial_g)\n",
        "        \n",
        "        expected_prior = gamma[:, 0]\n",
        "        expected_A = self._stochasticize(xi_sum)\n",
        "        \n",
        "        expected_mu = np.zeros((self.n_dims, self.n_states))\n",
        "        expected_covs = np.zeros((self.n_dims, self.n_dims, self.n_states))\n",
        "        \n",
        "        gamma_state_sum = np.sum(gamma, axis=1)\n",
        "        #Set zeros to 1 before dividing\n",
        "        gamma_state_sum = gamma_state_sum + (gamma_state_sum == 0)\n",
        "        \n",
        "        for s in range(self.n_states):\n",
        "            gamma_obs = obs * gamma[s, :]\n",
        "            expected_mu[:, s] = np.sum(gamma_obs, axis=1) / gamma_state_sum[s]\n",
        "            partial_covs = np.dot(gamma_obs, obs.T) / gamma_state_sum[s] - np.dot(expected_mu[:, s], expected_mu[:, s].T)\n",
        "            #Symmetrize\n",
        "            partial_covs = np.triu(partial_covs) + np.triu(partial_covs).T - np.diag(partial_covs)\n",
        "        \n",
        "        #Ensure positive semidefinite by adding diagonal loading\n",
        "        expected_covs += .01 * np.eye(self.n_dims)[:, :, None]\n",
        "        \n",
        "        self.prior = expected_prior\n",
        "        self.mu = expected_mu\n",
        "        self.covs = expected_covs\n",
        "        self.A = expected_A\n",
        "        return log_likelihood\n",
        "    \n",
        "    def fit(self, obs, n_iter=15):\n",
        "        #Support for 2D and 3D arrays\n",
        "        #2D should be n_features, n_dims\n",
        "        #3D should be n_examples, n_features, n_dims\n",
        "        #For example, with 6 features per speech segment, 105 different words\n",
        "        #this array should be size\n",
        "        #(105, 6, X) where X is the number of frames with features extracted\n",
        "        #For a single example file, the array should be size (6, X)\n",
        "        if len(obs.shape) == 2:\n",
        "            for i in range(n_iter):\n",
        "                self._em_init(obs)\n",
        "                log_likelihood = self._em_step(obs)\n",
        "        elif len(obs.shape) == 3:\n",
        "            count = obs.shape[0]\n",
        "            for n in range(count):\n",
        "                for i in range(n_iter):\n",
        "                    self._em_init(obs[n, :, :])\n",
        "                    log_likelihood = self._em_step(obs[n, :, :])\n",
        "        return self\n",
        "    \n",
        "    def transform(self, obs):\n",
        "        #Support for 2D and 3D arrays\n",
        "        #2D should be n_features, n_dims\n",
        "        #3D should be n_examples, n_features, n_dims\n",
        "        #For example, with 6 features per speech segment, 105 different words\n",
        "        #this array should be size\n",
        "        #(105, 6, X) where X is the number of frames with features extracted\n",
        "        #For a single example file, the array should be size (6, X)\n",
        "        if len(obs.shape) == 2:\n",
        "            B = self._state_likelihood(obs)\n",
        "            log_likelihood, _ = self._forward(B)\n",
        "            return log_likelihood\n",
        "        elif len(obs.shape) == 3:\n",
        "            count = obs.shape[0]\n",
        "            out = np.zeros((count,))\n",
        "            for n in range(count):\n",
        "                B = self._state_likelihood(obs[n, :, :])\n",
        "                log_likelihood, _ = self._forward(B)\n",
        "                out[n] = log_likelihood\n",
        "            return out\n"
      ],
      "execution_count": 0,
      "outputs": []
    },
    {
      "metadata": {
        "id": "LtkiNw1Y8WKC",
        "colab_type": "code",
        "outputId": "646c3b0f-54d9-49a6-bf55-fae14d70a286",
        "colab": {
          "base_uri": "https://localhost:8080/",
          "height": 71
        }
      },
      "cell_type": "code",
      "source": [
        "file_path2 = '/content/drive/My Drive/speech_commands_v0.01/'\n",
        "\n",
        "fpaths = []\n",
        "labels = []\n",
        "spoken = []\n",
        "for f in os.listdir(file_path2):\n",
        "    for w in os.listdir(file_path2 + f):\n",
        "        fpaths.append(file_path2 + f + '/' + w)\n",
        "        labels.append(f)\n",
        "        if f not in spoken:\n",
        "            spoken.append(f)\n",
        "print('Words spoken:', spoken)\n",
        "\n",
        "spoken = [\"on\", \"off\", \"up\", \"down\", \"yes\", \"no\", \"left\", \"right\", \"go\", \"stop\"]\n",
        "\n",
        "print('Words Selected:', spoken)"
      ],
      "execution_count": 0,
      "outputs": [
        {
          "output_type": "stream",
          "text": [
            "Words spoken: ['one', 'left', 'seven', 'sheila', 'zero', 'on', 'right', 'dog', '_background_noise_', 'stop', 'tree', 'off', 'bird', 'nine', 'four', 'two', 'up', 'six', 'happy', 'cat', 'yes', 'five', 'down', 'wow', 'eight', 'house', 'bed', 'marvin', 'no', 'three', 'go', 'others']\n",
            "Words Selected: ['on', 'off', 'up', 'down', 'yes', 'no', 'left', 'right', 'go', 'stop']\n"
          ],
          "name": "stdout"
        }
      ]
    },
    {
      "metadata": {
        "id": "S9e5U6VJHbkw",
        "colab_type": "code",
        "colab": {}
      },
      "cell_type": "code",
      "source": [
        "sampelrate = 16000\n",
        "new_sample_rate = int(sampelrate/4)\n",
        "\n",
        "data_num = 100\n",
        "data_list = np.zeros([data_num * len(spoken), new_sample_rate])\n",
        "labl_list = np.zeros([data_num * len(spoken), 1])\n",
        "\n",
        "\n",
        "for iii in range(len(spoken)):\n",
        "    WFL = glob.glob( file_path2 + spoken[iii] + \"/*.wav\" )\n",
        "\n",
        "    jjj  = 0\n",
        "    jjj_ = 0    \n",
        "    \n",
        "    while jjj_ < data_num:\n",
        "      \n",
        "        y, sr = librosa.load(WFL[jjj], sr = sampelrate)  #Fs=16khz\n",
        "        #_, y = wavfile.read(WFL[jjj])\n",
        "        \n",
        "        if y.shape[0] != sampelrate:\n",
        "            jjj += 1\n",
        "            continue\n",
        "        \n",
        "        y = signal.resample(y, int(new_sample_rate/sampelrate * y.shape[0]))\n",
        "        \n",
        "        data_list[jjj_ + data_num*iii , :] = y\n",
        "        labl_list[jjj_ + data_num*iii , :] = int(iii)\n",
        "            \n",
        "        jjj  += 1 \n",
        "        jjj_ += 1\n",
        "all_labels=np.array(labl_list.T)[0]"
      ],
      "execution_count": 0,
      "outputs": []
    },
    {
      "metadata": {
        "id": "CmJUDelM0hoD",
        "colab_type": "code",
        "outputId": "2ed773ca-4e2b-4e28-f659-69d34419224f",
        "colab": {
          "base_uri": "https://localhost:8080/",
          "height": 1150
        }
      },
      "cell_type": "code",
      "source": [
        "plt.plot(data_list[20, :], color='steelblue')\n",
        "plt.title('Timeseries example for %s'%labels[0])\n",
        "#plt.xlim(0, 3500)\n",
        "plt.xlabel('Time (samples)')\n",
        "plt.ylabel('Amplitude (signed 16 bit)')\n",
        "plt.figure()\n",
        "\n",
        "# MFCC\n",
        "mfcc_freq = librosa.feature.mfcc( S=calculate_melsp(data_list[20, :]), n_mfcc=25 )\n",
        "#mfcc_freq = mfcc_freq.T\n",
        "print(mfcc_freq.shape)\n",
        "librosa.display.specshow(mfcc_freq, sr=16000)# x_axis='time'\n",
        "plt.colorbar()\n",
        "plt.ylabel('Freq (bin)')\n",
        "plt.xlabel('Time (overlapped frames)')\n",
        "#plt.ylim(log_freq.shape[1])\n",
        "#plt.title('PSD of %s example'%labels[0])\n",
        "plt.show()\n",
        "\n",
        "plot_data = mfcc_freq[:,10]*1000\n",
        "values, locs = peakfind(plot_data, n_peaks=6)\n",
        "fp = locs[values > -1]\n",
        "fv = values[values > -1]\n",
        "plt.plot(plot_data, color='steelblue', marker='p')\n",
        "plt.plot(fp, fv, marker='o', color='darkred', linestyle='None')\n",
        "plt.title('Peak location example')\n",
        "plt.xlabel('Frequency (bins)')\n",
        "plt.ylabel('Amplitude')"
      ],
      "execution_count": 0,
      "outputs": [
        {
          "output_type": "stream",
          "text": [
            "/usr/local/lib/python3.6/dist-packages/librosa/filters.py:284: UserWarning: Empty filters detected in mel frequency basis. Some channels will produce empty responses. Try increasing your sampling rate (and fmax) or reducing n_mels.\n",
            "  warnings.warn('Empty filters detected in mel frequency basis. '\n"
          ],
          "name": "stderr"
        },
        {
          "output_type": "stream",
          "text": [
            "(25, 126)\n"
          ],
          "name": "stdout"
        },
        {
          "output_type": "display_data",
          "data": {
            "image/png": "[encoded data removed]",
            "text/plain": [
              "<Figure size 576x396 with 1 Axes>"
            ]
          },
          "metadata": {
            "tags": []
          }
        },
        {
          "output_type": "display_data",
          "data": {
            "image/png": "[encoded data removed]",
            "text/plain": [
              "<Figure size 576x396 with 2 Axes>"
            ]
          },
          "metadata": {
            "tags": []
          }
        },
        {
          "output_type": "execute_result",
          "data": {
            "text/plain": [
              "Text(0, 0.5, 'Amplitude')"
            ]
          },
          "metadata": {
            "tags": []
          },
          "execution_count": 9
        },
        {
          "output_type": "display_data",
          "data": {
            "image/png": "[encoded data removed]",
            "text/plain": [
              "<Figure size 576x396 with 1 Axes>"
            ]
          },
          "metadata": {
            "tags": []
          }
        }
      ]
    },
    {
      "metadata": {
        "id": "ynSQNiUGY8g9",
        "colab_type": "code",
        "outputId": "27059817-d425-4441-af35-4c10fab9aa0b",
        "colab": {
          "base_uri": "https://localhost:8080/",
          "height": 34
        }
      },
      "cell_type": "code",
      "source": [
        "1/4000*128*1000"
      ],
      "execution_count": 0,
      "outputs": [
        {
          "output_type": "execute_result",
          "data": {
            "text/plain": [
              "32.0"
            ]
          },
          "metadata": {
            "tags": []
          },
          "execution_count": 12
        }
      ]
    },
    {
      "metadata": {
        "id": "4nMz_Xv807LA",
        "colab_type": "code",
        "outputId": "1c40cd45-c01d-4f3b-b60b-6628c229d38b",
        "colab": {
          "base_uri": "https://localhost:8080/",
          "height": 598
        }
      },
      "cell_type": "code",
      "source": [
        "##peakfind(x, n_peaks, l_size=1, r_size=1, c_size=1, f=np.mean):\n",
        "##calculate_melsp(x, n_fft=64, hop_length=32):#1024,128:\n",
        "\n",
        "#n_fft_\n",
        "#n_sersiz\n",
        "#n_mfcc\n",
        "#n_dim\n",
        "\n",
        "n_rand = 3\n",
        "\n",
        "\n",
        "start = time.time()\n",
        "for n_fft_ in [64,128,256]:\n",
        "    for n_sersiz in [1,2,3]:\n",
        "        for n_mfcc_ in [20,25,30]:\n",
        "            for n_dim in [4]:\n",
        "\n",
        "                all_obs = []\n",
        "                for i in range(data_list.shape[0]):\n",
        "                    d = librosa.feature.mfcc(S=calculate_melsp( data_list[i, :], \n",
        "                                                                n_fft=n_fft_, hop_length=int(n_fft_/ 2) ) , \n",
        "                                                                n_mfcc=n_mfcc_ )\n",
        "                    d = d.T\n",
        "                    #n_dim = 6\n",
        "                    obs = np.zeros((n_dim, d.shape[0]))\n",
        "                    for r in range(d.shape[0]):#\n",
        "                        _, t = peakfind(d[r, :], n_peaks=n_dim, l_size=n_sersiz, r_size=n_sersiz, c_size=n_sersiz)\n",
        "                        obs[:, r] = t.copy()\n",
        "                    #if i % 10 == 0:\n",
        "                        #print(\"Processed obs %s\" % i)\n",
        "                    all_obs.append(obs)\n",
        "\n",
        "                all_obs = np.atleast_3d(all_obs)\n",
        "\n",
        "                for n,i in enumerate(all_obs):\n",
        "                    all_obs[n] /= all_obs[n].sum(axis=0)\n",
        "                \n",
        "                \n",
        "                missed_list = []\n",
        "                for random_state_ in range(n_rand):\n",
        "                    X_train, X_test, y_train, y_test = train_test_split(all_obs, all_labels, test_size=0.1, random_state=random_state_)\n",
        "    \n",
        "                    #print('Size of training matrix:', X_train.shape)\n",
        "                    #print('Size of testing matrix:', X_test.shape)\n",
        "    \n",
        "                    ys = set(all_labels)\n",
        "                    ms = [gmmhmm(n_dim) for y in ys]\n",
        "                    _ = [m.fit(X_train[y_train == y, :, :]) for m, y in zip(ms, ys)]\n",
        "                    ps = [m.transform(X_test) for m in ms]\n",
        "                    res = np.vstack(ps)\n",
        "                    predicted_labels = np.argmax(res, axis=0)\n",
        "                    missed = (predicted_labels != y_test)\n",
        "                    missed_ = 100 * (1 - np.mean(missed))\n",
        "                    missed_list.append(missed_)\n",
        "                missed = np.mean(missed_list)\n",
        "                \n",
        "                elapsed_time = time.time() - start\n",
        "                print(\"elapsed_time:{0}\".format(elapsed_time) + \"[sec]   \" + ' n_fft_, n_sersiz:, n_mfcc:, n_dim:, Test acc:  %d, %d, %d, %d,  %.2f percent' % (n_fft_, n_sersiz, n_mfcc_, n_dim, missed))\n",
        "                \n"
      ],
      "execution_count": 0,
      "outputs": [
        {
          "output_type": "stream",
          "text": [
            "/usr/local/lib/python3.6/dist-packages/librosa/filters.py:284: UserWarning: Empty filters detected in mel frequency basis. Some channels will produce empty responses. Try increasing your sampling rate (and fmax) or reducing n_mels.\n",
            "  warnings.warn('Empty filters detected in mel frequency basis. '\n"
          ],
          "name": "stderr"
        },
        {
          "output_type": "stream",
          "text": [
            "elapsed_time:417.0719199180603[sec]    n_fft_, n_sersiz:, n_mfcc:, n_dim:, Test acc:  64, 1, 20, 4,  10.67 percent\n",
            "elapsed_time:854.4286098480225[sec]    n_fft_, n_sersiz:, n_mfcc:, n_dim:, Test acc:  64, 1, 25, 4,  9.33 percent\n",
            "elapsed_time:1308.7033970355988[sec]    n_fft_, n_sersiz:, n_mfcc:, n_dim:, Test acc:  64, 1, 30, 4,  11.67 percent\n",
            "elapsed_time:1710.4652616977692[sec]    n_fft_, n_sersiz:, n_mfcc:, n_dim:, Test acc:  64, 2, 20, 4,  10.33 percent\n",
            "elapsed_time:2136.3073728084564[sec]    n_fft_, n_sersiz:, n_mfcc:, n_dim:, Test acc:  64, 2, 25, 4,  10.33 percent\n",
            "elapsed_time:2584.5882403850555[sec]    n_fft_, n_sersiz:, n_mfcc:, n_dim:, Test acc:  64, 2, 30, 4,  6.67 percent\n",
            "elapsed_time:2971.594920873642[sec]    n_fft_, n_sersiz:, n_mfcc:, n_dim:, Test acc:  64, 3, 20, 4,  11.33 percent\n",
            "elapsed_time:3386.0686542987823[sec]    n_fft_, n_sersiz:, n_mfcc:, n_dim:, Test acc:  64, 3, 25, 4,  7.67 percent\n",
            "elapsed_time:3819.8429470062256[sec]    n_fft_, n_sersiz:, n_mfcc:, n_dim:, Test acc:  64, 3, 30, 4,  9.67 percent\n",
            "elapsed_time:4051.4966266155243[sec]    n_fft_, n_sersiz:, n_mfcc:, n_dim:, Test acc:  128, 1, 20, 4,  10.00 percent\n",
            "elapsed_time:4296.003603696823[sec]    n_fft_, n_sersiz:, n_mfcc:, n_dim:, Test acc:  128, 1, 25, 4,  11.67 percent\n",
            "elapsed_time:4554.022067785263[sec]    n_fft_, n_sersiz:, n_mfcc:, n_dim:, Test acc:  128, 1, 30, 4,  11.33 percent\n",
            "elapsed_time:4778.15634059906[sec]    n_fft_, n_sersiz:, n_mfcc:, n_dim:, Test acc:  128, 2, 20, 4,  13.00 percent\n",
            "elapsed_time:5016.507283449173[sec]    n_fft_, n_sersiz:, n_mfcc:, n_dim:, Test acc:  128, 2, 25, 4,  10.00 percent\n",
            "elapsed_time:5269.719864606857[sec]    n_fft_, n_sersiz:, n_mfcc:, n_dim:, Test acc:  128, 2, 30, 4,  11.00 percent\n",
            "elapsed_time:5486.347990036011[sec]    n_fft_, n_sersiz:, n_mfcc:, n_dim:, Test acc:  128, 3, 20, 4,  10.33 percent\n",
            "elapsed_time:5717.152111291885[sec]    n_fft_, n_sersiz:, n_mfcc:, n_dim:, Test acc:  128, 3, 25, 4,  12.33 percent\n",
            "elapsed_time:5962.074997663498[sec]    n_fft_, n_sersiz:, n_mfcc:, n_dim:, Test acc:  128, 3, 30, 4,  10.33 percent\n",
            "elapsed_time:6103.400482416153[sec]    n_fft_, n_sersiz:, n_mfcc:, n_dim:, Test acc:  256, 1, 20, 4,  9.67 percent\n",
            "elapsed_time:6251.452075481415[sec]    n_fft_, n_sersiz:, n_mfcc:, n_dim:, Test acc:  256, 1, 25, 4,  10.67 percent\n",
            "elapsed_time:6406.942831516266[sec]    n_fft_, n_sersiz:, n_mfcc:, n_dim:, Test acc:  256, 1, 30, 4,  10.67 percent\n",
            "elapsed_time:6544.3734040260315[sec]    n_fft_, n_sersiz:, n_mfcc:, n_dim:, Test acc:  256, 2, 20, 4,  10.00 percent\n",
            "elapsed_time:6688.813796043396[sec]    n_fft_, n_sersiz:, n_mfcc:, n_dim:, Test acc:  256, 2, 25, 4,  11.33 percent\n"
          ],
          "name": "stdout"
        },
        {
          "output_type": "stream",
          "text": [
            "/usr/local/lib/python3.6/dist-packages/numpy/core/_methods.py:32: RuntimeWarning: overflow encountered in reduce\n",
            "  return umr_sum(a, axis, dtype, out, keepdims)\n",
            "/usr/local/lib/python3.6/dist-packages/ipykernel_launcher.py:66: RuntimeWarning: invalid value encountered in true_divide\n",
            "/usr/local/lib/python3.6/dist-packages/ipykernel_launcher.py:86: RuntimeWarning: divide by zero encountered in true_divide\n"
          ],
          "name": "stderr"
        },
        {
          "output_type": "stream",
          "text": [
            "elapsed_time:6840.56498169899[sec]    n_fft_, n_sersiz:, n_mfcc:, n_dim:, Test acc:  256, 2, 30, 4,  8.67 percent\n",
            "elapsed_time:6972.946258068085[sec]    n_fft_, n_sersiz:, n_mfcc:, n_dim:, Test acc:  256, 3, 20, 4,  10.67 percent\n",
            "elapsed_time:7114.113064050674[sec]    n_fft_, n_sersiz:, n_mfcc:, n_dim:, Test acc:  256, 3, 25, 4,  10.00 percent\n",
            "elapsed_time:7260.9810264110565[sec]    n_fft_, n_sersiz:, n_mfcc:, n_dim:, Test acc:  256, 3, 30, 4,  12.33 percent\n"
          ],
          "name": "stdout"
        }
      ]
    }
  ]
}