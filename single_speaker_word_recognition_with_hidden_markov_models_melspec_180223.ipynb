{
  "nbformat": 4,
  "nbformat_minor": 0,
  "metadata": {
    "colab": {
      "name": "single-speaker-word-recognition-with-hidden-markov-models_melspec_180223.ipynb",
      "version": "0.3.2",
      "provenance": [],
      "collapsed_sections": [],
      "toc_visible": true,
      "include_colab_link": true
    },
    "kernelspec": {
      "name": "python3",
      "display_name": "Python 3"
    }
  },
  "cells": [
    {
      "cell_type": "markdown",
      "metadata": {
        "id": "view-in-github",
        "colab_type": "text"
      },
      "source": [
        "<a href=\"https://colab.research.google.com/github/ayanokohjikimimaro/Data_Read/blob/master/single_speaker_word_recognition_with_hidden_markov_models_melspec_180223.ipynb\" target=\"_parent\"><img src=\"https://colab.research.google.com/assets/colab-badge.svg\" alt=\"Open In Colab\"/></a>"
      ]
    },
    {
      "metadata": {
        "id": "-usfhRg7qvmQ",
        "colab_type": "text"
      },
      "cell_type": "markdown",
      "source": [
        "Hidden Markov Models (HMMs) are powerful, flexible methods for representing and classifying data with trends over time, and have been a key component in speech recognition systems for many years.\n",
        "\n",
        "I found it very difficult to find a good example (with code) of a simple speech recognition system, so I decided to create this post. Though this implementation won't win any awards for \"Best Speech Recognizer\", I hope it will provide some insight into how HMMs can be used for speech recognition and other tasks.\n",
        "<!-- TEASER_END -->\n",
        "\n",
        "In this post, I will define what Hidden Markov Models are, show how to implement one form (Gaussian Mixture Model HMM, GMM-HMM) using numpy + scipy, and how to use this algorithm for single speaker speech recognition. For a more \"production grade\" HMM implementation, see [hmmlearn](https://github.com/hmmlearn/hmmlearn) which holds the HMM implementations that were formerly a part of [sklearn](http://scikit-learn.org/stable/)."
      ]
    },
    {
      "metadata": {
        "id": "cizkxjb-qvmZ",
        "colab_type": "text"
      },
      "cell_type": "markdown",
      "source": [
        "Data\n",
        "----\n",
        "\n",
        "To demonstrate this algorithm, we need a dataset to operate on. I have chosen to use the sample dataset from [this Google Code project by Hakon Sandsmark](https://code.google.com/p/hmm-speech-recognition/downloads/list). I also used this code as a reference when creating my own implementation of a Guassian Mixture Model HMM (GMM-HMM). This aided in testing my implementation, as well as giving a frame of reference for performance. \n",
        "\n",
        "Other available datasets are largely multispeaker, but the simple frequency peak features used in this example do not work in the multispeaker regime (different speakers have different frequency content for the same word! Let alone male/female speech differences). Future work will cover more advanced feature extraction techniques for audio, and extend these examples to multispeaker recognition."
      ]
    },
    {
      "metadata": {
        "id": "lPMf3aFnuqur",
        "colab_type": "code",
        "outputId": "5f9412c8-d6ec-4914-c351-44f7f6a5dc43",
        "colab": {
          "base_uri": "https://localhost:8080/",
          "height": 212
        }
      },
      "cell_type": "code",
      "source": [
        "!pip install librosa\n",
        "import os\n",
        "import pandas as pd\n",
        "import numpy as np\n",
        "import matplotlib.pyplot as plt\n",
        "import librosa\n",
        "import librosa.display\n",
        "import glob\n",
        "from matplotlib.colors import ListedColormap\n",
        "import warnings\n",
        "from sklearn.tree import DecisionTreeClassifier\n",
        "from sklearn.model_selection import cross_val_score\n",
        "from sklearn.decomposition import PCA\n",
        "import pickle\n",
        "from IPython.display import Image\n",
        "from sklearn.model_selection import StratifiedKFold, GridSearchCV\n",
        "from sklearn import svm\n",
        "import scipy as sp\n",
        "from sklearn.metrics import confusion_matrix\n",
        "import seaborn as sns\n",
        "from sklearn.ensemble import RandomForestRegressor\n",
        "from sklearn.model_selection import train_test_split\n",
        "from sklearn.preprocessing import StandardScaler\n",
        "from sklearn.neighbors import KNeighborsClassifier\n",
        "from sklearn import metrics\n",
        "import time\n",
        "from scipy import signal\n",
        "from scipy.io import wavfile"
      ],
      "execution_count": 0,
      "outputs": [
        {
          "output_type": "stream",
          "text": [
            "Requirement already satisfied: librosa in /usr/local/lib/python3.6/dist-packages (0.6.3)\n",
            "Requirement already satisfied: audioread>=2.0.0 in /usr/local/lib/python3.6/dist-packages (from librosa) (2.1.6)\n",
            "Requirement already satisfied: numpy>=1.8.0 in /usr/local/lib/python3.6/dist-packages (from librosa) (1.14.6)\n",
            "Requirement already satisfied: scipy>=1.0.0 in /usr/local/lib/python3.6/dist-packages (from librosa) (1.1.0)\n",
            "Requirement already satisfied: scikit-learn!=0.19.0,>=0.14.0 in /usr/local/lib/python3.6/dist-packages (from librosa) (0.20.2)\n",
            "Requirement already satisfied: joblib>=0.12 in /usr/local/lib/python3.6/dist-packages (from librosa) (0.13.2)\n",
            "Requirement already satisfied: decorator>=3.0.0 in /usr/local/lib/python3.6/dist-packages (from librosa) (4.3.2)\n",
            "Requirement already satisfied: six>=1.3 in /usr/local/lib/python3.6/dist-packages (from librosa) (1.11.0)\n",
            "Requirement already satisfied: resampy>=0.2.0 in /usr/local/lib/python3.6/dist-packages (from librosa) (0.2.1)\n",
            "Requirement already satisfied: numba>=0.38.0 in /usr/local/lib/python3.6/dist-packages (from librosa) (0.40.1)\n",
            "Requirement already satisfied: llvmlite>=0.25.0dev0 in /usr/local/lib/python3.6/dist-packages (from numba>=0.38.0->librosa) (0.27.1)\n"
          ],
          "name": "stdout"
        }
      ]
    },
    {
      "metadata": {
        "id": "yI55akHaJomx",
        "colab_type": "text"
      },
      "cell_type": "markdown",
      "source": [
        "# Drive Linked"
      ]
    },
    {
      "metadata": {
        "id": "y7oG5AzdCnKX",
        "colab_type": "code",
        "outputId": "96366f43-de79-4af9-c238-926f7691f367",
        "colab": {
          "base_uri": "https://localhost:8080/",
          "height": 126
        }
      },
      "cell_type": "code",
      "source": [
        "from google.colab import drive\n",
        "drive.mount('/content/drive')"
      ],
      "execution_count": 0,
      "outputs": [
        {
          "output_type": "stream",
          "text": [
            "Go to this URL in a browser: https://accounts.google.com/o/oauth2/auth?client_id=947318989803-6bn6qk8qdgf4n4g3pfee6491hc0brc4i.apps.googleusercontent.com&redirect_uri=urn%3Aietf%3Awg%3Aoauth%3A2.0%3Aoob&scope=email%20https%3A%2F%2Fwww.googleapis.com%2Fauth%2Fdocs.test%20https%3A%2F%2Fwww.googleapis.com%2Fauth%2Fdrive%20https%3A%2F%2Fwww.googleapis.com%2Fauth%2Fdrive.photos.readonly%20https%3A%2F%2Fwww.googleapis.com%2Fauth%2Fpeopleapi.readonly&response_type=code\n",
            "\n",
            "Enter your authorization code:\n",
            "··········\n",
            "Mounted at /content/drive\n"
          ],
          "name": "stdout"
        }
      ]
    },
    {
      "metadata": {
        "id": "3P26xwEEIw5X",
        "colab_type": "code",
        "colab": {}
      },
      "cell_type": "code",
      "source": [
        "file_path = '/content/drive/My Drive/hmm-speech-recognition-0.1/hmm-speech-recognition-0.1/audio/'"
      ],
      "execution_count": 0,
      "outputs": []
    },
    {
      "metadata": {
        "id": "n2ALf717KlWJ",
        "colab_type": "text"
      },
      "cell_type": "markdown",
      "source": [
        "# Data Path Read & Get Label's Name"
      ]
    },
    {
      "metadata": {
        "id": "lEupTFRcqvnH",
        "colab_type": "code",
        "outputId": "59c546ff-c5e3-4045-eb73-caa9bdda7625",
        "colab": {
          "base_uri": "https://localhost:8080/",
          "height": 35
        }
      },
      "cell_type": "code",
      "source": [
        "fpaths = []\n",
        "labels = []\n",
        "spoken = []\n",
        "for f in os.listdir(file_path):\n",
        "    for w in os.listdir(file_path + f):\n",
        "        fpaths.append(file_path + f + '/' + w)\n",
        "        labels.append(f)\n",
        "        if f not in spoken:\n",
        "            spoken.append(f)\n",
        "print('Words spoken:', spoken)"
      ],
      "execution_count": 0,
      "outputs": [
        {
          "output_type": "stream",
          "text": [
            "Words spoken: ['apple', 'banana', 'kiwi', 'lime', 'orange', 'peach', 'pineapple']\n"
          ],
          "name": "stdout"
        }
      ]
    },
    {
      "metadata": {
        "id": "Axm1wI8Yqvna",
        "colab_type": "text"
      },
      "cell_type": "markdown",
      "source": [
        "This data has a total of 7 different spoken words, and each was spoken 15 different times, giving a grand total of 105 files. Next, the files will be extracted into a single data matrix (zero padding files to uniform length), and a label vector with the correct label for each data file is created."
      ]
    },
    {
      "metadata": {
        "id": "srZPUNYgOjsB",
        "colab_type": "text"
      },
      "cell_type": "markdown",
      "source": [
        "# Data Read & Labeling"
      ]
    },
    {
      "metadata": {
        "id": "2amobTqEqvnd",
        "colab_type": "code",
        "outputId": "230f371c-aa72-4997-b122-a944fa3b8608",
        "colab": {
          "base_uri": "https://localhost:8080/",
          "height": 125
        }
      },
      "cell_type": "code",
      "source": [
        "#Files can be heard in Linux using the following commands from the command line\n",
        "#cat kiwi07.wav | aplay -f S16_LE -t wav -r 8000\n",
        "#Files are signed 16 bit raw, sample rate 8000\n",
        "from scipy.io import wavfile\n",
        "\n",
        "data = np.zeros((len(fpaths), 32000))\n",
        "maxsize = -1\n",
        "for n,file in enumerate(fpaths):\n",
        "    #_, d = wavfile.read(file)\n",
        "    d, _ = librosa.load(file, sr = 8000)\n",
        "    data[n, :d.shape[0]] = d\n",
        "    if d.shape[0] > maxsize:\n",
        "        maxsize = d.shape[0]\n",
        "data = data[:, :maxsize]\n",
        "\n",
        "#Each sample file is one row in data, and has one entry in labels\n",
        "print('Number of files total:', data.shape[0])\n",
        "all_labels = np.zeros(data.shape[0])\n",
        "for n, l in enumerate(set(labels)):\n",
        "    all_labels[np.array([i for i, _ in enumerate(labels) if _ == l])] = n\n",
        "    \n",
        "print('Labels and label indices', all_labels)"
      ],
      "execution_count": 0,
      "outputs": [
        {
          "output_type": "stream",
          "text": [
            "Number of files total: 105\n",
            "Labels and label indices [5. 5. 5. 5. 5. 5. 5. 5. 5. 5. 5. 5. 5. 5. 5. 3. 3. 3. 3. 3. 3. 3. 3. 3.\n",
            " 3. 3. 3. 3. 3. 3. 1. 1. 1. 1. 1. 1. 1. 1. 1. 1. 1. 1. 1. 1. 1. 4. 4. 4.\n",
            " 4. 4. 4. 4. 4. 4. 4. 4. 4. 4. 4. 4. 6. 6. 6. 6. 6. 6. 6. 6. 6. 6. 6. 6.\n",
            " 6. 6. 6. 2. 2. 2. 2. 2. 2. 2. 2. 2. 2. 2. 2. 2. 2. 2. 0. 0. 0. 0. 0. 0.\n",
            " 0. 0. 0. 0. 0. 0. 0. 0. 0.]\n"
          ],
          "name": "stdout"
        }
      ]
    },
    {
      "metadata": {
        "id": "PsdofVC-qvnp",
        "colab_type": "text"
      },
      "cell_type": "markdown",
      "source": [
        "Science Fiction (Double Feature)\n",
        "--------------------------------\n",
        "\n",
        "Once the data has been downloaded and turned into an input matrix, the next step is to extract features from the raw data, as is done in many other machine learning pipelines. \n",
        "\n",
        "Most \"consumer grade\" speaker recognition systems use advanced processing to extract a variety of features that describe the sound over both frequency and time, and until recently \"custom features\" were one of the keys to making a great recognition system. The current state of the art (to my knowledge, at least) has recently moved to using deep neural networks for feature extraction, which I hope to show in a future post. For now, we will stick to very simple features, in order to show a \"simplest working example\".\n",
        "\n",
        "In this example, simple frequency peak detection was used, rather than the bevy of expert features typically used in a modern speech recognition pipeline (MFCCs, or more recently, a pretrained multilayer neural network). This has a direct effect on performance, but allows for a holistic implementation that fits in a single post :)"
      ]
    },
    {
      "metadata": {
        "id": "utSxNHbJqvnt",
        "colab_type": "code",
        "colab": {}
      },
      "cell_type": "code",
      "source": [
        "import scipy\n",
        "\n",
        "def stft(x, fftsize=64, overlap_pct=.5):   \n",
        "    #Modified from http://stackoverflow.com/questions/2459295/stft-and-istft-in-python\n",
        "    hop = int(fftsize * (1 - overlap_pct))\n",
        "    w = scipy.hanning(fftsize + 1)[:-1]    \n",
        "    raw = np.array([np.fft.rfft(w * x[i:i + fftsize]) for i in range(0, len(x) - fftsize, hop)])\n",
        "    return raw[:, :(fftsize // 2)]\n",
        "\n",
        "def calculate_melsp(x, n_fft=64, hop_length=32):#1024,128\n",
        "    stft = np.abs(librosa.stft(x, n_fft=n_fft, hop_length=hop_length))**2\n",
        "    log_stft = librosa.power_to_db(stft)\n",
        "    melsp = librosa.feature.melspectrogram(S=log_stft,n_mels=128)\n",
        "    return melsp"
      ],
      "execution_count": 0,
      "outputs": []
    },
    {
      "metadata": {
        "id": "5sWU4Oeea6Fs",
        "colab_type": "code",
        "outputId": "4334ec2f-3b56-4ce9-e93e-146c3ac9edd6",
        "colab": {
          "base_uri": "https://localhost:8080/",
          "height": 35
        }
      },
      "cell_type": "code",
      "source": [
        "1/8000*128 *1000"
      ],
      "execution_count": 0,
      "outputs": [
        {
          "output_type": "execute_result",
          "data": {
            "text/plain": [
              "16.0"
            ]
          },
          "metadata": {
            "tags": []
          },
          "execution_count": 11
        }
      ]
    },
    {
      "metadata": {
        "id": "C3SP_k7wqvn6",
        "colab_type": "text"
      },
      "cell_type": "markdown",
      "source": [
        "In order to find peaks in frequency, a technique called the Short Time Fourier Transform (STFT) is used. This idea is quite simple - the FFT is applied over chunks of the input data, resulting in a 2D FFT \"image\", usually called the spectrogram. Setting the FFT size allows us to control the amount of frequency resolution available, while overlapping these windows allows us to control the time resolution at the cost of increasing the data size. \n",
        "\n",
        "Briefly, if X is a vector of length 20, we wish to create a 2D array, STFT_X. If the FFT size is 10, and the overlap is .5 (5 samples), this means (in pseudocode):\n",
        "\n",
        "```\n",
        "STFT_X[0, :] = FFT(X[0:9])\n",
        "\n",
        "STFT_X[1, :] = FFT(X[5:14])\n",
        "\n",
        "STFT_X[2, :] = FFT(X[10:19])\n",
        "```\n",
        "\n",
        "We then have 3 FFT frames which have been extracted from the input sample X. For our feature extraction, we would next find peaks in each row of STFT_X.\n",
        "\n",
        "The STFT is usually a crucial element of most DSP pipelines, and highly efficient routines are available to compute this (see [FFTW](http://www.fftw.org/), which numpy wraps). Though I have implemented my own STFT here, it is also possible to use matplotlib's [specgram function](http://matplotlib.org/api/mlab_api.html#matplotlib.mlab.specgram) instead."
      ]
    },
    {
      "metadata": {
        "id": "UK1s_dTCqvn-",
        "colab_type": "code",
        "outputId": "aecc7379-c91d-419a-b1dc-24f0a7687fc9",
        "colab": {
          "base_uri": "https://localhost:8080/",
          "height": 772
        }
      },
      "cell_type": "code",
      "source": [
        "import matplotlib.pyplot as plt\n",
        "plt.plot(data[0, :], color='steelblue')\n",
        "plt.title('Timeseries example for %s'%labels[0])\n",
        "#plt.xlim(0, 3500)\n",
        "plt.xlabel('Time (samples)')\n",
        "plt.ylabel('Amplitude (signed 16 bit)')\n",
        "plt.figure()\n",
        "\n",
        "# STFT\n",
        "# + 1 to avoid log of 0\n",
        "log_freq = 20 * np.log(np.abs(stft(data[0, :])) + 1)\n",
        "print(log_freq.shape)\n",
        "plt.imshow(log_freq, cmap='gray', interpolation=None)\n",
        "plt.xlabel('Freq (bin)')\n",
        "plt.ylabel('Time (overlapped frames)')\n",
        "plt.ylim(log_freq.shape[1])\n",
        "plt.title('PSD of %s example'%labels[0])\n",
        "\n"
      ],
      "execution_count": 0,
      "outputs": [
        {
          "output_type": "stream",
          "text": [
            "(216, 32)\n"
          ],
          "name": "stdout"
        },
        {
          "output_type": "execute_result",
          "data": {
            "text/plain": [
              "Text(0.5, 1.0, 'PSD of apple example')"
            ]
          },
          "metadata": {
            "tags": []
          },
          "execution_count": 7
        },
        {
          "output_type": "display_data",
          "data": {
            "image/png": "[encoded data removed]",
            "text/plain": [
              "<Figure size 576x396 with 1 Axes>"
            ]
          },
          "metadata": {
            "tags": []
          }
        },
        {
          "output_type": "display_data",
          "data": {
            "image/png": "[encoded data removed]",
            "text/plain": [
              "<Figure size 576x396 with 1 Axes>"
            ]
          },
          "metadata": {
            "tags": []
          }
        }
      ]
    },
    {
      "metadata": {
        "id": "DYx5XI4Dahyj",
        "colab_type": "code",
        "outputId": "69240fb3-2850-4b43-8bf3-6eaf826c5975",
        "colab": {
          "base_uri": "https://localhost:8080/",
          "height": 419
        }
      },
      "cell_type": "code",
      "source": [
        "# MFCC\n",
        "mfcc_freq = librosa.feature.mfcc( S=calculate_melsp(data[20, :]), n_mfcc=25 )\n",
        "#mfcc_freq = mfcc_freq.T\n",
        "print(mfcc_freq.shape)\n",
        "librosa.display.specshow(mfcc_freq, sr=16000)# x_axis='time'\n",
        "plt.colorbar()\n",
        "plt.ylabel('Freq (bin)')\n",
        "plt.xlabel('Time (overlapped frames)')\n",
        "#plt.ylim(log_freq.shape[1])\n",
        "#plt.title('PSD of %s example'%labels[0])\n",
        "plt.show()"
      ],
      "execution_count": 0,
      "outputs": [
        {
          "output_type": "stream",
          "text": [
            "/usr/local/lib/python3.6/dist-packages/librosa/filters.py:284: UserWarning: Empty filters detected in mel frequency basis. Some channels will produce empty responses. Try increasing your sampling rate (and fmax) or reducing n_mels.\n",
            "  warnings.warn('Empty filters detected in mel frequency basis. '\n"
          ],
          "name": "stderr"
        },
        {
          "output_type": "stream",
          "text": [
            "(25, 218)\n"
          ],
          "name": "stdout"
        },
        {
          "output_type": "display_data",
          "data": {
            "image/png": "[encoded data removed]",
            "text/plain": [
              "<Figure size 576x396 with 2 Axes>"
            ]
          },
          "metadata": {
            "tags": []
          }
        }
      ]
    },
    {
      "metadata": {
        "id": "4_iAUtJnqvof",
        "colab_type": "text"
      },
      "cell_type": "markdown",
      "source": [
        "Next, peak detection is applied to each FFT frame of every data file. In a [previous blog post](http://kastnerkyle.github.io/blog/2014/04/17/wavelets/), I described the use of wavelets for peak detection. Here, we will use a moving window to search for peaks instead. The primary steps to this algorithm are as follows:\n",
        "\n",
        "1. Create a data window of length X. In this example X=9, though any window size can be used.\n",
        "2. Split this window into 3 sections: left, center and right. For the 9 sample window, this will be LLLCCCRRR.\n",
        "3. Apply some function (mean, median, max, min, etc) over each section of the window.\n",
        "4. If the maximum value of the function over the center section is greater than the result for left or right, continue to the next check. Otherwise GOTO 6.\n",
        "5. If the maximum value for f(CCC) is in the very center of the window, you have found a peak! Mark it and continue. Otherwise, go to the next step.\n",
        "6. Shift the input data by one sample, and repeat the process. (data[0:9] -> data[1:10])\n",
        "7. Once all data has been processed, you should have some detected peaks. Sort them in descending order by amplitude, then output the top N peaks. In this case, N=6\n",
        "\n",
        "An implementation of this algorithm is shown below."
      ]
    },
    {
      "metadata": {
        "id": "shULfrgAqvoi",
        "colab_type": "code",
        "colab": {}
      },
      "cell_type": "code",
      "source": [
        "from numpy.lib.stride_tricks import as_strided\n",
        "\n",
        "#Peak detection using the technique described here: http://kkjkok.blogspot.com/2013/12/dsp-snippets_9.html \n",
        "def peakfind(x, n_peaks, l_size=1, r_size=1, c_size=1, f=np.mean):\n",
        "    win_size = l_size + r_size + c_size\n",
        "    shape = x.shape[:-1] + (x.shape[-1] - win_size + 1, win_size)\n",
        "    strides = x.strides + (x.strides[-1],)\n",
        "    xs = as_strided(x, shape=shape, strides=strides)\n",
        "    def is_peak(x):\n",
        "        centered = (np.argmax(x) == l_size + int(c_size/2))\n",
        "        l = x[:l_size]\n",
        "        c = x[l_size:l_size + c_size]\n",
        "        r = x[-r_size:]\n",
        "        passes = np.max(c) > np.max([f(l), f(r)])\n",
        "        if centered and passes:\n",
        "            return np.max(c)\n",
        "        else:\n",
        "            return -1\n",
        "    r = np.apply_along_axis(is_peak, 1, xs)\n",
        "    #print(r)\n",
        "    top = np.argsort(r, None)[::-1]\n",
        "    heights = r[top[:n_peaks]]\n",
        "    #Add l_size and half - 1 of center size to get to actual peak location\n",
        "    top[top > -1] = top[top > -1] + l_size + int(c_size / 2.)\n",
        "    return heights, top[:n_peaks]"
      ],
      "execution_count": 0,
      "outputs": []
    },
    {
      "metadata": {
        "id": "0GMHxBk_qvoz",
        "colab_type": "code",
        "outputId": "e69456b7-9cdd-4efb-daab-af2fdacacb4e",
        "colab": {
          "base_uri": "https://localhost:8080/",
          "height": 449
        }
      },
      "cell_type": "code",
      "source": [
        "plot_data = np.abs(stft(data[20, :]))[15, :]*1000\n",
        "values, locs = peakfind(plot_data, n_peaks=6)\n",
        "fp = locs[values > -1]\n",
        "fv = values[values > -1]\n",
        "plt.plot(plot_data, color='steelblue', marker='p')\n",
        "plt.plot(fp, fv, marker='o', color='darkred', linestyle='None')\n",
        "plt.title('Peak location example')\n",
        "plt.xlabel('Frequency (bins)')\n",
        "plt.ylabel('Amplitude')"
      ],
      "execution_count": 0,
      "outputs": [
        {
          "output_type": "stream",
          "text": [
            "[  -1   -1   -1   -1   -1 2220   -1   -1   -1   -1   -1   -1   -1   -1\n",
            "   -1   -1   53   -1   -1   -1  125   -1   -1   -1   -1   -1   -1   -1\n",
            "   -1   -1]\n"
          ],
          "name": "stdout"
        },
        {
          "output_type": "execute_result",
          "data": {
            "text/plain": [
              "Text(0, 0.5, 'Amplitude')"
            ]
          },
          "metadata": {
            "tags": []
          },
          "execution_count": 14
        },
        {
          "output_type": "display_data",
          "data": {
            "image/png": "[encoded data removed]",
            "text/plain": [
              "<Figure size 576x396 with 1 Axes>"
            ]
          },
          "metadata": {
            "tags": []
          }
        }
      ]
    },
    {
      "metadata": {
        "id": "5mzNsRwFEICT",
        "colab_type": "code",
        "outputId": "a72a4e2c-f752-4325-8cb9-bec372fdcdf8",
        "colab": {
          "base_uri": "https://localhost:8080/",
          "height": 35
        }
      },
      "cell_type": "code",
      "source": [
        "fv"
      ],
      "execution_count": 0,
      "outputs": [
        {
          "output_type": "execute_result",
          "data": {
            "text/plain": [
              "array([2, 0, 0])"
            ]
          },
          "metadata": {
            "tags": []
          },
          "execution_count": 11
        }
      ]
    },
    {
      "metadata": {
        "id": "YZ8gc1TuqvpB",
        "colab_type": "text"
      },
      "cell_type": "markdown",
      "source": [
        "The peak detector does an acceptable job in detecting peaks, though it is by no means perfect. One of the limiting factors here is the length of the FFT - this peak detector is currently searching over 9 sample chunks, which is very large when the FFT size is only 64 bins! Once again, this will have a negative impact on performance. \n",
        "\n",
        "We could set the FFT size larger, but in testing this algorithm longer FFT sizes appeared to do worse, even *with* higher overlap to maintain the same time resolution. Ultimately, this is where more advanced features would come into play."
      ]
    },
    {
      "metadata": {
        "id": "WxLUUgAFqvpF",
        "colab_type": "code",
        "outputId": "ec6e3e8f-8362-4332-c7fe-fa42e0a9cb69",
        "colab": {
          "base_uri": "https://localhost:8080/",
          "height": 215
        }
      },
      "cell_type": "code",
      "source": [
        "#This processing (top freq peaks) only works for single speaker case... need better features for multispeaker!\n",
        "#MFCC (or deep NN/automatic feature extraction) could be interesting\n",
        "all_obs = []\n",
        "for i in range(data.shape[0]):\n",
        "    d = np.abs(stft(data[i, :]))\n",
        "    n_dim = 6\n",
        "    obs = np.zeros((n_dim, d.shape[0]))\n",
        "    for r in range(d.shape[0]):\n",
        "        _, t = peakfind(d[r, :], n_peaks=n_dim)\n",
        "        obs[:, r] = t.copy()\n",
        "    if i % 10 == 0:\n",
        "        print(\"Processed obs %s\" % i)\n",
        "    all_obs.append(obs)\n",
        "    \n",
        "all_obs = np.atleast_3d(all_obs)"
      ],
      "execution_count": 0,
      "outputs": [
        {
          "output_type": "stream",
          "text": [
            "Processed obs 0\n",
            "Processed obs 10\n",
            "Processed obs 20\n",
            "Processed obs 30\n",
            "Processed obs 40\n",
            "Processed obs 50\n",
            "Processed obs 60\n",
            "Processed obs 70\n",
            "Processed obs 80\n",
            "Processed obs 90\n",
            "Processed obs 100\n"
          ],
          "name": "stdout"
        }
      ]
    },
    {
      "metadata": {
        "id": "aYG1xhsOeQGO",
        "colab_type": "text"
      },
      "cell_type": "markdown",
      "source": [
        "MFCC"
      ]
    },
    {
      "metadata": {
        "id": "MHhRNXliePWM",
        "colab_type": "code",
        "outputId": "c3b7c352-a3f2-4aff-a61c-7ecee3de27bf",
        "colab": {
          "base_uri": "https://localhost:8080/",
          "height": 395
        }
      },
      "cell_type": "code",
      "source": [
        "plot_data = mfcc_freq[:,10]*1000\n",
        "values, locs = peakfind(plot_data, n_peaks=6)\n",
        "fp = locs[values > -1]\n",
        "fv = values[values > -1]\n",
        "plt.plot(plot_data, color='steelblue', marker='p')\n",
        "plt.plot(fp, fv, marker='o', color='darkred', linestyle='None')\n",
        "plt.title('Peak location example')\n",
        "plt.xlabel('Frequency (bins)')\n",
        "plt.ylabel('Amplitude')"
      ],
      "execution_count": 0,
      "outputs": [
        {
          "output_type": "execute_result",
          "data": {
            "text/plain": [
              "Text(0, 0.5, 'Amplitude')"
            ]
          },
          "metadata": {
            "tags": []
          },
          "execution_count": 18
        },
        {
          "output_type": "display_data",
          "data": {
            "image/png": "[encoded data removed]",
            "text/plain": [
              "<Figure size 576x396 with 1 Axes>"
            ]
          },
          "metadata": {
            "tags": []
          }
        }
      ]
    },
    {
      "metadata": {
        "id": "OETRDJ-Cge2B",
        "colab_type": "code",
        "outputId": "ea5530d2-25c3-4cb3-f3f3-474fa25ade9b",
        "colab": {
          "base_uri": "https://localhost:8080/",
          "height": 271
        }
      },
      "cell_type": "code",
      "source": [
        "all_obs = []\n",
        "for i in range(data.shape[0]):\n",
        "    d = librosa.feature.mfcc( S=calculate_melsp(data[i, :]), n_mfcc=25 )*1000#calculate_melsp(data_list[i])\n",
        "    d=d.T\n",
        "    n_dim = 6\n",
        "    obs = np.zeros((n_dim, d.shape[0]))\n",
        "    for r in range(d.shape[0]):#\n",
        "        _, t = peakfind(d[r, :], n_peaks=n_dim)\n",
        "        obs[:, r] = t.copy()\n",
        "    if i % 10 == 0:\n",
        "        print(\"Processed obs %s\" % i)\n",
        "    all_obs.append(obs)\n",
        "    \n",
        "all_obs = np.atleast_3d(all_obs)"
      ],
      "execution_count": 0,
      "outputs": [
        {
          "output_type": "stream",
          "text": [
            "/usr/local/lib/python3.6/dist-packages/librosa/filters.py:284: UserWarning: Empty filters detected in mel frequency basis. Some channels will produce empty responses. Try increasing your sampling rate (and fmax) or reducing n_mels.\n",
            "  warnings.warn('Empty filters detected in mel frequency basis. '\n"
          ],
          "name": "stderr"
        },
        {
          "output_type": "stream",
          "text": [
            "Processed obs 0\n",
            "Processed obs 10\n",
            "Processed obs 20\n",
            "Processed obs 30\n",
            "Processed obs 40\n",
            "Processed obs 50\n",
            "Processed obs 60\n",
            "Processed obs 70\n",
            "Processed obs 80\n",
            "Processed obs 90\n",
            "Processed obs 100\n"
          ],
          "name": "stdout"
        }
      ]
    },
    {
      "metadata": {
        "id": "aJbx8wqng_Hd",
        "colab_type": "text"
      },
      "cell_type": "markdown",
      "source": [
        "ΔMFCC"
      ]
    },
    {
      "metadata": {
        "id": "evtP0Uerg-sa",
        "colab_type": "code",
        "outputId": "77185f52-175c-48ce-9515-a67e27b8625c",
        "colab": {
          "base_uri": "https://localhost:8080/",
          "height": 395
        }
      },
      "cell_type": "code",
      "source": [
        "delta_mfcc  = librosa.feature.delta(mfcc_freq, order=2)\n",
        "\n",
        "plot_data = delta_mfcc[:,15]*1000\n",
        "values, locs = peakfind(plot_data, n_peaks=6)\n",
        "fp = locs[values > -1]\n",
        "fv = values[values > -1]\n",
        "plt.plot(plot_data, color='steelblue', marker='p')\n",
        "plt.plot(fp, fv, marker='o', color='darkred', linestyle='None')\n",
        "plt.title('Peak location example')\n",
        "plt.xlabel('Frequency (bins)')\n",
        "plt.ylabel('Amplitude')"
      ],
      "execution_count": 0,
      "outputs": [
        {
          "output_type": "execute_result",
          "data": {
            "text/plain": [
              "Text(0, 0.5, 'Amplitude')"
            ]
          },
          "metadata": {
            "tags": []
          },
          "execution_count": 44
        },
        {
          "output_type": "display_data",
          "data": {
            "image/png": "[encoded data removed]",
            "text/plain": [
              "<Figure size 576x396 with 1 Axes>"
            ]
          },
          "metadata": {
            "tags": []
          }
        }
      ]
    },
    {
      "metadata": {
        "id": "yyZdUfutiAx-",
        "colab_type": "code",
        "outputId": "f0d8bf5b-947c-4ebf-a95e-dc6c63577461",
        "colab": {
          "base_uri": "https://localhost:8080/",
          "height": 271
        }
      },
      "cell_type": "code",
      "source": [
        "all_obs = []\n",
        "for i in range(data.shape[0]):\n",
        "    d = librosa.feature.mfcc( S=calculate_melsp(data[i, :]), n_mfcc=25 )#calculate_melsp(data_list[i])\n",
        "    d = librosa.feature.delta(d, order=2)\n",
        "    d = d.T\n",
        "    n_dim = 6\n",
        "    obs = np.zeros((n_dim, d.shape[0]))\n",
        "    for r in range(d.shape[0]):\n",
        "        _, t = peakfind(d[r, :], n_peaks=n_dim)\n",
        "        obs[:, r] = t.copy()\n",
        "    if i % 10 == 0:\n",
        "        print(\"Processed obs %s\" % i)\n",
        "    all_obs.append(obs)\n",
        "    \n",
        "all_obs = np.atleast_3d(all_obs)"
      ],
      "execution_count": 0,
      "outputs": [
        {
          "output_type": "stream",
          "text": [
            "/usr/local/lib/python3.6/dist-packages/librosa/filters.py:284: UserWarning: Empty filters detected in mel frequency basis. Some channels will produce empty responses. Try increasing your sampling rate (and fmax) or reducing n_mels.\n",
            "  warnings.warn('Empty filters detected in mel frequency basis. '\n"
          ],
          "name": "stderr"
        },
        {
          "output_type": "stream",
          "text": [
            "Processed obs 0\n",
            "Processed obs 10\n",
            "Processed obs 20\n",
            "Processed obs 30\n",
            "Processed obs 40\n",
            "Processed obs 50\n",
            "Processed obs 60\n",
            "Processed obs 70\n",
            "Processed obs 80\n",
            "Processed obs 90\n",
            "Processed obs 100\n"
          ],
          "name": "stdout"
        }
      ]
    },
    {
      "metadata": {
        "id": "TjohJcl7ivxN",
        "colab_type": "text"
      },
      "cell_type": "markdown",
      "source": [
        "MFCC + ΔMFCC + ΔΔMFCC"
      ]
    },
    {
      "metadata": {
        "id": "IfJcyzA1iyWo",
        "colab_type": "code",
        "outputId": "5062f327-ce34-4264-fba9-b68a3b5c1d4b",
        "colab": {
          "base_uri": "https://localhost:8080/",
          "height": 271
        }
      },
      "cell_type": "code",
      "source": [
        "all_obs = []\n",
        "for i in range(data.shape[0]):\n",
        "    d  = librosa.feature.mfcc( S=calculate_melsp(data[i, :]), n_mfcc=20 )#calculate_melsp(data_list[i])\n",
        "    dd = librosa.feature.delta(d)\n",
        "    ddd= librosa.feature.delta(d, order=2) \n",
        "    d  = d.T\n",
        "    dd =dd.T\n",
        "    ddd=ddd.T\n",
        "    \n",
        "    n_dim = 8\n",
        "    obs = np.zeros((n_dim, d.shape[0]))\n",
        "    for r in range(d.shape[0]):  #Time loop (Flame)\n",
        "        _, t   = peakfind( d[r, :], n_peaks=6)\n",
        "        _, td  = peakfind(dd[r, :], n_peaks=1)\n",
        "        _, tdd = peakfind(dd[r, :], n_peaks=1)           \n",
        "        t = np.concatenate([t, td, tdd])\n",
        "        \n",
        "        obs[:, r] = t.copy()\n",
        "    if i % 10 == 0:\n",
        "        print(\"Processed obs %s\" % i)\n",
        "    all_obs.append(obs)\n",
        "    \n",
        "all_obs = np.atleast_3d(all_obs)"
      ],
      "execution_count": 0,
      "outputs": [
        {
          "output_type": "stream",
          "text": [
            "/usr/local/lib/python3.6/dist-packages/librosa/filters.py:284: UserWarning: Empty filters detected in mel frequency basis. Some channels will produce empty responses. Try increasing your sampling rate (and fmax) or reducing n_mels.\n",
            "  warnings.warn('Empty filters detected in mel frequency basis. '\n"
          ],
          "name": "stderr"
        },
        {
          "output_type": "stream",
          "text": [
            "Processed obs 0\n",
            "Processed obs 10\n",
            "Processed obs 20\n",
            "Processed obs 30\n",
            "Processed obs 40\n",
            "Processed obs 50\n",
            "Processed obs 60\n",
            "Processed obs 70\n",
            "Processed obs 80\n",
            "Processed obs 90\n",
            "Processed obs 100\n"
          ],
          "name": "stdout"
        }
      ]
    },
    {
      "metadata": {
        "id": "B-0VnJN1qvpU",
        "colab_type": "text"
      },
      "cell_type": "markdown",
      "source": [
        "GMM-HMM Bop\n",
        "-----------\n",
        "\n",
        "An implementation of a GMM-HMM is shown below. This code is also available as a [gist](https://gist.github.com/kastnerkyle/75483d51641a0c03bf7c), and any improvements I make will show up there.\n",
        "\n",
        "This algorithm is fairly complex, and a good summary can be seen [here, Brown](http://cs.brown.edu/research/ai/dynamics/tutorial/Documents/HiddenMarkovModels.html) and [here, Moore](http://www.autonlab.org/tutorials/hmm.html). This implementation does *not* have any Viterbi backtracking - since my only interest (for now) is in speech classification, only Baum-Welch and Forward-Backward portions of the GMM-HMM are necessary.\n",
        "\n",
        "HMMs can do do three primary tasks:\n",
        "\n",
        "1. State Estimation $P(S | O)$ - can be useful *if* you have prior info about what states mean and create the state probabilities yourself.\n",
        "2. Path Estimation - given observations, what is the most likely \"state path\"? Not useful in our case, and not even implemented here!\n",
        "3. Maximum Likelihood Estimation $P(O | \\lambda)$ - learn the HMM parameters $\\lambda$ which maximize the probability of observations. This is the primary method we will use.\n",
        "\n",
        "To train the HMM, we use the Baum-Welch algorithm. There are many, many resources on this algorithm and I will not regurgitate here. Implementing this HMM was fairly tricky, and I highly recommend using a library unless you are interested in a \"learning experience\".\n",
        "\n",
        "This code uses requires scipy 0.14 for the multivariate_normal density."
      ]
    },
    {
      "metadata": {
        "id": "tSEjDb_EqvpX",
        "colab_type": "code",
        "outputId": "31586aa4-76b6-4b52-d8be-f579ce56a050",
        "colab": {
          "base_uri": "https://localhost:8080/",
          "height": 212
        }
      },
      "cell_type": "code",
      "source": [
        "import scipy.stats as st\n",
        "import numpy as np\n",
        "\n",
        "class gmmhmm:\n",
        "    #This class converted with modifications from https://code.google.com/p/hmm-speech-recognition/source/browse/Word.m\n",
        "    def __init__(self, n_states):\n",
        "        self.n_states = n_states\n",
        "        self.random_state = np.random.RandomState(0)\n",
        "        \n",
        "        #Normalize random initial state\n",
        "        self.prior = self._normalize(self.random_state.rand(self.n_states, 1))\n",
        "        self.A = self._stochasticize(self.random_state.rand(self.n_states, self.n_states))\n",
        "        \n",
        "        self.mu = None\n",
        "        self.covs = None\n",
        "        self.n_dims = None\n",
        "           \n",
        "    def _forward(self, B):\n",
        "        log_likelihood = 0.\n",
        "        T = B.shape[1]\n",
        "        alpha = np.zeros(B.shape)\n",
        "        for t in range(T):\n",
        "            if t == 0:\n",
        "                alpha[:, t] = B[:, t] * self.prior.ravel()\n",
        "            else:\n",
        "                alpha[:, t] = B[:, t] * np.dot(self.A.T, alpha[:, t - 1])\n",
        "         \n",
        "            alpha_sum = np.sum(alpha[:, t])\n",
        "            alpha[:, t] /= alpha_sum\n",
        "            log_likelihood = log_likelihood + np.log(alpha_sum)\n",
        "        return log_likelihood, alpha\n",
        "    \n",
        "    def _backward(self, B):\n",
        "        T = B.shape[1]\n",
        "        beta = np.zeros(B.shape);\n",
        "           \n",
        "        beta[:, -1] = np.ones(B.shape[0])\n",
        "            \n",
        "        for t in range(T - 1)[::-1]:\n",
        "            beta[:, t] = np.dot(self.A, (B[:, t + 1] * beta[:, t + 1]))\n",
        "            beta[:, t] /= np.sum(beta[:, t])\n",
        "        return beta\n",
        "    \n",
        "    def _state_likelihood(self, obs):\n",
        "        obs = np.atleast_2d(obs)\n",
        "        B = np.zeros((self.n_states, obs.shape[1]))\n",
        "        for s in range(self.n_states):\n",
        "            #Needs scipy 0.14\n",
        "            np.random.seed(self.random_state.randint(1))\n",
        "            B[s, :] = st.multivariate_normal.pdf(\n",
        "                obs.T, mean=self.mu[:, s].T, cov=self.covs[:, :, s].T)\n",
        "            #This function can (and will!) return values >> 1\n",
        "            #See the discussion here for the equivalent matlab function\n",
        "            #https://groups.google.com/forum/#!topic/comp.soft-sys.matlab/YksWK0T74Ak\n",
        "            #Key line: \"Probabilities have to be less than 1,\n",
        "            #Densities can be anything, even infinite (at individual points).\"\n",
        "            #This is evaluating the density at individual points...\n",
        "        return B\n",
        "    \n",
        "    def _normalize(self, x):\n",
        "        return (x + (x == 0)) / np.sum(x)\n",
        "    \n",
        "    def _stochasticize(self, x):\n",
        "        return (x + (x == 0)) / np.sum(x, axis=1)\n",
        "    \n",
        "    def _em_init(self, obs):\n",
        "        #Using this _em_init function allows for less required constructor args\n",
        "        if self.n_dims is None:\n",
        "            self.n_dims = obs.shape[0]\n",
        "        if self.mu is None:\n",
        "            subset = self.random_state.choice(np.arange(self.n_dims), size=self.n_states, replace=False)\n",
        "            self.mu = obs[:, subset]\n",
        "        if self.covs is None:\n",
        "            self.covs = np.zeros((self.n_dims, self.n_dims, self.n_states))\n",
        "            self.covs += np.diag(np.diag(np.cov(obs)))[:, :, None]\n",
        "        return self\n",
        "    \n",
        "    def _em_step(self, obs): \n",
        "        obs = np.atleast_2d(obs)\n",
        "        B = self._state_likelihood(obs)\n",
        "        T = obs.shape[1]\n",
        "        \n",
        "        log_likelihood, alpha = self._forward(B)\n",
        "        beta = self._backward(B)\n",
        "        \n",
        "        xi_sum = np.zeros((self.n_states, self.n_states))\n",
        "        gamma = np.zeros((self.n_states, T))\n",
        "        \n",
        "        for t in range(T - 1):\n",
        "            partial_sum = self.A * np.dot(alpha[:, t], (beta[:, t] * B[:, t + 1]).T)\n",
        "            xi_sum += self._normalize(partial_sum)\n",
        "            partial_g = alpha[:, t] * beta[:, t]\n",
        "            gamma[:, t] = self._normalize(partial_g)\n",
        "              \n",
        "        partial_g = alpha[:, -1] * beta[:, -1]\n",
        "        gamma[:, -1] = self._normalize(partial_g)\n",
        "        \n",
        "        expected_prior = gamma[:, 0]\n",
        "        expected_A = self._stochasticize(xi_sum)\n",
        "        \n",
        "        expected_mu = np.zeros((self.n_dims, self.n_states))\n",
        "        expected_covs = np.zeros((self.n_dims, self.n_dims, self.n_states))\n",
        "        \n",
        "        gamma_state_sum = np.sum(gamma, axis=1)\n",
        "        #Set zeros to 1 before dividing\n",
        "        gamma_state_sum = gamma_state_sum + (gamma_state_sum == 0)\n",
        "        \n",
        "        for s in range(self.n_states):\n",
        "            gamma_obs = obs * gamma[s, :]\n",
        "            expected_mu[:, s] = np.sum(gamma_obs, axis=1) / gamma_state_sum[s]\n",
        "            partial_covs = np.dot(gamma_obs, obs.T) / gamma_state_sum[s] - np.dot(expected_mu[:, s], expected_mu[:, s].T)\n",
        "            #Symmetrize\n",
        "            partial_covs = np.triu(partial_covs) + np.triu(partial_covs).T - np.diag(partial_covs)\n",
        "        \n",
        "        #Ensure positive semidefinite by adding diagonal loading\n",
        "        expected_covs += .01 * np.eye(self.n_dims)[:, :, None]\n",
        "        \n",
        "        self.prior = expected_prior\n",
        "        self.mu = expected_mu\n",
        "        self.covs = expected_covs\n",
        "        self.A = expected_A\n",
        "        return log_likelihood\n",
        "    \n",
        "    def fit(self, obs, n_iter=15):\n",
        "        #Support for 2D and 3D arrays\n",
        "        #2D should be n_features, n_dims\n",
        "        #3D should be n_examples, n_features, n_dims\n",
        "        #For example, with 6 features per speech segment, 105 different words\n",
        "        #this array should be size\n",
        "        #(105, 6, X) where X is the number of frames with features extracted\n",
        "        #For a single example file, the array should be size (6, X)\n",
        "        if len(obs.shape) == 2:\n",
        "            for i in range(n_iter):\n",
        "                self._em_init(obs)\n",
        "                log_likelihood = self._em_step(obs)\n",
        "        elif len(obs.shape) == 3:\n",
        "            count = obs.shape[0]\n",
        "            for n in range(count):\n",
        "                for i in range(n_iter):\n",
        "                    self._em_init(obs[n, :, :])\n",
        "                    log_likelihood = self._em_step(obs[n, :, :])\n",
        "        return self\n",
        "    \n",
        "    def transform(self, obs):\n",
        "        #Support for 2D and 3D arrays\n",
        "        #2D should be n_features, n_dims\n",
        "        #3D should be n_examples, n_features, n_dims\n",
        "        #For example, with 6 features per speech segment, 105 different words\n",
        "        #this array should be size\n",
        "        #(105, 6, X) where X is the number of frames with features extracted\n",
        "        #For a single example file, the array should be size (6, X)\n",
        "        if len(obs.shape) == 2:\n",
        "            B = self._state_likelihood(obs)\n",
        "            log_likelihood, _ = self._forward(B)\n",
        "            return log_likelihood\n",
        "        elif len(obs.shape) == 3:\n",
        "            count = obs.shape[0]\n",
        "            out = np.zeros((count,))\n",
        "            for n in range(count):\n",
        "                B = self._state_likelihood(obs[n, :, :])\n",
        "                log_likelihood, _ = self._forward(B)\n",
        "                out[n] = log_likelihood\n",
        "            return out\n",
        "\n",
        "if __name__ == \"__main__\":\n",
        "    rstate = np.random.RandomState(0)\n",
        "    t1 = np.ones((4, 40)) + .001 * rstate.rand(4, 40)\n",
        "    t1 /= t1.sum(axis=0)\n",
        "    t2 = rstate.rand(*t1.shape)\n",
        "    t2 /= t2.sum(axis=0)\n",
        "    \n",
        "    m1 = gmmhmm(2)\n",
        "    m1.fit(t1)\n",
        "    m2 = gmmhmm(2)\n",
        "    m2.fit(t2)\n",
        "    \n",
        "    m1t1 = m1.transform(t1)\n",
        "    m2t1 = m2.transform(t1)\n",
        "    print(\"Likelihoods for test set 1\")\n",
        "    print(\"M1:\", m1t1)\n",
        "    print(\"M2:\", m2t1)\n",
        "    print(\"Prediction for test set 1\")\n",
        "    print(\"Model\", np.argmax([m1t1, m2t1]) + 1)\n",
        "    print()\n",
        "    \n",
        "    m1t2 = m1.transform(t2)\n",
        "    m2t2 = m2.transform(t2)\n",
        "    print(\"Likelihoods for test set 2\")\n",
        "    print(\"M1:\", m1t2)\n",
        "    print(\"M2:\", m2t2)\n",
        "    print(\"Prediction for test set 2\")\n",
        "    print(\"Model\", np.argmax([m1t2, m2t2]) + 1)"
      ],
      "execution_count": 0,
      "outputs": [
        {
          "output_type": "stream",
          "text": [
            "Likelihoods for test set 1\n",
            "M1: 221.38828575112734\n",
            "M2: 165.27280230776495\n",
            "Prediction for test set 1\n",
            "Model 1\n",
            "\n",
            "Likelihoods for test set 2\n",
            "M1: 33.19459421485196\n",
            "M2: 59.15274753052998\n",
            "Prediction for test set 2\n",
            "Model 2\n"
          ],
          "name": "stdout"
        }
      ]
    },
    {
      "metadata": {
        "id": "R1snUUptqvpk",
        "colab_type": "text"
      },
      "cell_type": "markdown",
      "source": [
        "Still Peaking\n",
        "-------------\n",
        "\n",
        "Once the peaks are detected for each frame, we have a 3 dimensional numpy array of size [numdatafiles, numpeaks, numframes] - in this case [105, 6, 216]. It is important that the observations be normalized in order to form probabilities, since the HMM expects to be trained on state probabilities. What does this mean?\n",
        "\n",
        "For each sample, we have extracted a number of frames over time, and each frame has its own set of peaks. We divide each frame by the sum of all peaks in the frame (axis 0 of all_obs[n], or axis 1 of all_obs), and form a \"state probability\" for each frame in our dataset. In essence, we are creating 6 states, where the highest peak in a frame is state 1, second highest state 2, etc. for each FFT frame. \n",
        "\n",
        "This representation shows the \"spread\" of the peaks - if all the peaks are close together, each one will have about the same probability, while peaks that are in a more unique distribution should take on a more unique fingerprint. An extreme case would be 3 low frequency peaks, and 3 high - this would result in very low state probabilities for the low frequency peaks, and very high state probabilities for the high frequency peaks. Since the HMM attempts to learn transition probabilities between frames, this is a decent way to represent speech for HMMs."
      ]
    },
    {
      "metadata": {
        "id": "QGvlYjVrTXCK",
        "colab_type": "text"
      },
      "cell_type": "markdown",
      "source": [
        "各フレームについてピークが検出されると、サイズが[numdatafiles、numpeaks、numframes]、この場合は[105、6、216]の3次元のでこぼこの配列ができます。 ＨＭＭは状態確率に関して訓練されることを期待するので、確率を形成するために観測値を正規化することが重要である。これは何を意味するのでしょうか？\n",
        "\n",
        "各サンプルについて、我々は経時的に多数のフレームを抽出し、そして各フレームはそれ自身のピークのセットを有する。各フレームをフレーム内のすべてのピークの合計（all_obs [n]の軸0、またはall_obsの軸1）で割り、データセット内の各フレームの \"状態確率\"を形成します。本質的に、我々は６つの状態を作り出しており、そこではフレーム内の最も高いピークは各ＦＦＴフレームについて状態１、２番目に高い状態２などである。\n",
        "\n",
        "この表現は、ピークの「広がり」を示しています。すべてのピークが互いに接近している場合、各ピークはほぼ同じ確率になりますが、よりユニークな分布にあるピークはよりユニークなフィンガープリントを帯びるはずです。極端な場合は、3つの低周波数ピークと3つの高周波数です。これは、低周波数ピークでは非常に低い状態確率、高周波数ピークでは非常に高い状態確率になります。 ＨＭＭはフレーム間の遷移確率を学習しようと試みるので、これはＨＭＭのための音声を表すための適当な方法である。"
      ]
    },
    {
      "metadata": {
        "id": "2iFyRuCKJZG0",
        "colab_type": "text"
      },
      "cell_type": "markdown",
      "source": [
        "## Param Change"
      ]
    },
    {
      "metadata": {
        "id": "m3BkS5Any1Kt",
        "colab_type": "code",
        "outputId": "678ee580-968b-415b-9e0d-d70c827940c9",
        "colab": {
          "base_uri": "https://localhost:8080/",
          "height": 126
        }
      },
      "cell_type": "code",
      "source": [
        "from google.colab import drive\n",
        "drive.mount('/content/drive')"
      ],
      "execution_count": 0,
      "outputs": [
        {
          "output_type": "stream",
          "text": [
            "Go to this URL in a browser: https://accounts.google.com/o/oauth2/auth?client_id=947318989803-6bn6qk8qdgf4n4g3pfee6491hc0brc4i.apps.googleusercontent.com&redirect_uri=urn%3Aietf%3Awg%3Aoauth%3A2.0%3Aoob&scope=email%20https%3A%2F%2Fwww.googleapis.com%2Fauth%2Fdocs.test%20https%3A%2F%2Fwww.googleapis.com%2Fauth%2Fdrive%20https%3A%2F%2Fwww.googleapis.com%2Fauth%2Fdrive.photos.readonly%20https%3A%2F%2Fwww.googleapis.com%2Fauth%2Fpeopleapi.readonly&response_type=code\n",
            "\n",
            "Enter your authorization code:\n",
            "··········\n",
            "Mounted at /content/drive\n"
          ],
          "name": "stdout"
        }
      ]
    },
    {
      "metadata": {
        "id": "4TdHSUPiNkUl",
        "colab_type": "text"
      },
      "cell_type": "markdown",
      "source": [
        "## lib & Func"
      ]
    },
    {
      "metadata": {
        "id": "BnXSO_x-Jtde",
        "colab_type": "code",
        "outputId": "24f0cb44-bd04-486a-dbda-c79b2867573e",
        "colab": {
          "base_uri": "https://localhost:8080/",
          "height": 212
        }
      },
      "cell_type": "code",
      "source": [
        "!pip install librosa\n",
        "import os\n",
        "import pandas as pd\n",
        "import numpy as np\n",
        "import matplotlib.pyplot as plt\n",
        "import librosa\n",
        "import librosa.display\n",
        "import glob\n",
        "from matplotlib.colors import ListedColormap\n",
        "import warnings\n",
        "from sklearn.tree import DecisionTreeClassifier\n",
        "from sklearn.model_selection import cross_val_score\n",
        "from sklearn.decomposition import PCA\n",
        "import pickle\n",
        "from IPython.display import Image\n",
        "from sklearn.model_selection import StratifiedKFold, GridSearchCV\n",
        "from sklearn import svm\n",
        "import scipy as sp\n",
        "from sklearn.metrics import confusion_matrix\n",
        "import seaborn as sns\n",
        "from sklearn.ensemble import RandomForestRegressor\n",
        "from sklearn.model_selection import train_test_split\n",
        "from sklearn.preprocessing import StandardScaler\n",
        "from sklearn.neighbors import KNeighborsClassifier\n",
        "from sklearn import metrics\n",
        "import time\n",
        "from scipy import signal\n",
        "from scipy.io import wavfile\n",
        "from numpy.lib.stride_tricks import as_strided\n",
        "import scipy.stats as st"
      ],
      "execution_count": 0,
      "outputs": [
        {
          "output_type": "stream",
          "text": [
            "Requirement already satisfied: librosa in /usr/local/lib/python3.6/dist-packages (0.6.3)\n",
            "Requirement already satisfied: audioread>=2.0.0 in /usr/local/lib/python3.6/dist-packages (from librosa) (2.1.6)\n",
            "Requirement already satisfied: numpy>=1.8.0 in /usr/local/lib/python3.6/dist-packages (from librosa) (1.14.6)\n",
            "Requirement already satisfied: scipy>=1.0.0 in /usr/local/lib/python3.6/dist-packages (from librosa) (1.1.0)\n",
            "Requirement already satisfied: scikit-learn!=0.19.0,>=0.14.0 in /usr/local/lib/python3.6/dist-packages (from librosa) (0.20.2)\n",
            "Requirement already satisfied: joblib>=0.12 in /usr/local/lib/python3.6/dist-packages (from librosa) (0.13.2)\n",
            "Requirement already satisfied: decorator>=3.0.0 in /usr/local/lib/python3.6/dist-packages (from librosa) (4.3.2)\n",
            "Requirement already satisfied: six>=1.3 in /usr/local/lib/python3.6/dist-packages (from librosa) (1.11.0)\n",
            "Requirement already satisfied: resampy>=0.2.0 in /usr/local/lib/python3.6/dist-packages (from librosa) (0.2.1)\n",
            "Requirement already satisfied: numba>=0.38.0 in /usr/local/lib/python3.6/dist-packages (from librosa) (0.40.1)\n",
            "Requirement already satisfied: llvmlite>=0.25.0dev0 in /usr/local/lib/python3.6/dist-packages (from numba>=0.38.0->librosa) (0.27.1)\n"
          ],
          "name": "stdout"
        }
      ]
    },
    {
      "metadata": {
        "id": "26Hq2cquMyq8",
        "colab_type": "code",
        "colab": {}
      },
      "cell_type": "code",
      "source": [
        "def calculate_melsp(x, n_fft=64, hop_length=32):#1024,128\n",
        "    stft = np.abs(librosa.stft(x, n_fft=n_fft, hop_length=hop_length))**2\n",
        "    log_stft = librosa.power_to_db(stft)\n",
        "    melsp = librosa.feature.melspectrogram(S=log_stft,n_mels=128)\n",
        "    return melsp\n",
        "\n",
        "def peakfind(x, n_peaks, l_size=1, r_size=1, c_size=1, f=np.mean):\n",
        "    win_size = l_size + r_size + c_size\n",
        "    shape = x.shape[:-1] + (x.shape[-1] - win_size + 1, win_size)\n",
        "    strides = x.strides + (x.strides[-1],)\n",
        "    xs = as_strided(x, shape=shape, strides=strides)\n",
        "    def is_peak(x):\n",
        "        centered = (np.argmax(x) == l_size + int(c_size/2))\n",
        "        l = x[:l_size]\n",
        "        c = x[l_size:l_size + c_size]\n",
        "        r = x[-r_size:]\n",
        "        passes = np.max(c) > np.max([f(l), f(r)])\n",
        "        if centered and passes:\n",
        "            return np.max(c)\n",
        "        else:\n",
        "            return -1\n",
        "    r = np.apply_along_axis(is_peak, 1, xs)\n",
        "    top = np.argsort(r, None)[::-1]\n",
        "    heights = r[top[:n_peaks]]\n",
        "    #Add l_size and half - 1 of center size to get to actual peak location\n",
        "    top[top > -1] = top[top > -1] + l_size + int(c_size / 2.)\n",
        "    return heights, top[:n_peaks]\n",
        "\n",
        "class gmmhmm:\n",
        "    #This class converted with modifications from https://code.google.com/p/hmm-speech-recognition/source/browse/Word.m\n",
        "    def __init__(self, n_states):\n",
        "        self.n_states = n_states\n",
        "        self.random_state = np.random.RandomState(0)\n",
        "        \n",
        "        #Normalize random initial state\n",
        "        self.prior = self._normalize(self.random_state.rand(self.n_states, 1))\n",
        "        self.A = self._stochasticize(self.random_state.rand(self.n_states, self.n_states))\n",
        "        \n",
        "        self.mu = None\n",
        "        self.covs = None\n",
        "        self.n_dims = None\n",
        "           \n",
        "    def _forward(self, B):\n",
        "        log_likelihood = 0.\n",
        "        T = B.shape[1]\n",
        "        alpha = np.zeros(B.shape)\n",
        "        for t in range(T):\n",
        "            if t == 0:\n",
        "                alpha[:, t] = B[:, t] * self.prior.ravel()\n",
        "            else:\n",
        "                alpha[:, t] = B[:, t] * np.dot(self.A.T, alpha[:, t - 1])\n",
        "         \n",
        "            alpha_sum = np.sum(alpha[:, t])\n",
        "            alpha[:, t] /= alpha_sum\n",
        "            log_likelihood = log_likelihood + np.log(alpha_sum)\n",
        "        return log_likelihood, alpha\n",
        "    \n",
        "    def _backward(self, B):\n",
        "        T = B.shape[1]\n",
        "        beta = np.zeros(B.shape);\n",
        "           \n",
        "        beta[:, -1] = np.ones(B.shape[0])\n",
        "            \n",
        "        for t in range(T - 1)[::-1]:\n",
        "            beta[:, t] = np.dot(self.A, (B[:, t + 1] * beta[:, t + 1]))\n",
        "            beta[:, t] /= np.sum(beta[:, t])\n",
        "        return beta\n",
        "    \n",
        "    def _state_likelihood(self, obs):\n",
        "        obs = np.atleast_2d(obs)\n",
        "        B = np.zeros((self.n_states, obs.shape[1]))\n",
        "        for s in range(self.n_states):\n",
        "            #Needs scipy 0.14\n",
        "            np.random.seed(self.random_state.randint(1))\n",
        "            B[s, :] = st.multivariate_normal.pdf(\n",
        "                obs.T, mean=self.mu[:, s].T, cov=self.covs[:, :, s].T)\n",
        "            #This function can (and will!) return values >> 1\n",
        "            #See the discussion here for the equivalent matlab function\n",
        "            #https://groups.google.com/forum/#!topic/comp.soft-sys.matlab/YksWK0T74Ak\n",
        "            #Key line: \"Probabilities have to be less than 1,\n",
        "            #Densities can be anything, even infinite (at individual points).\"\n",
        "            #This is evaluating the density at individual points...\n",
        "        return B\n",
        "    \n",
        "    def _normalize(self, x):\n",
        "        return (x + (x == 0)) / np.sum(x)\n",
        "    \n",
        "    def _stochasticize(self, x):\n",
        "        return (x + (x == 0)) / np.sum(x, axis=1)\n",
        "    \n",
        "    def _em_init(self, obs):\n",
        "        #Using this _em_init function allows for less required constructor args\n",
        "        if self.n_dims is None:\n",
        "            self.n_dims = obs.shape[0]\n",
        "        if self.mu is None:\n",
        "            subset = self.random_state.choice(np.arange(self.n_dims), size=self.n_states, replace=False)\n",
        "            self.mu = obs[:, subset]\n",
        "        if self.covs is None:\n",
        "            self.covs = np.zeros((self.n_dims, self.n_dims, self.n_states))\n",
        "            self.covs += np.diag(np.diag(np.cov(obs)))[:, :, None]\n",
        "        return self\n",
        "    \n",
        "    def _em_step(self, obs): \n",
        "        obs = np.atleast_2d(obs)\n",
        "        B = self._state_likelihood(obs)\n",
        "        T = obs.shape[1]\n",
        "        \n",
        "        log_likelihood, alpha = self._forward(B)\n",
        "        beta = self._backward(B)\n",
        "        \n",
        "        xi_sum = np.zeros((self.n_states, self.n_states))\n",
        "        gamma = np.zeros((self.n_states, T))\n",
        "        \n",
        "        for t in range(T - 1):\n",
        "            partial_sum = self.A * np.dot(alpha[:, t], (beta[:, t] * B[:, t + 1]).T)\n",
        "            xi_sum += self._normalize(partial_sum)\n",
        "            partial_g = alpha[:, t] * beta[:, t]\n",
        "            gamma[:, t] = self._normalize(partial_g)\n",
        "              \n",
        "        partial_g = alpha[:, -1] * beta[:, -1]\n",
        "        gamma[:, -1] = self._normalize(partial_g)\n",
        "        \n",
        "        expected_prior = gamma[:, 0]\n",
        "        expected_A = self._stochasticize(xi_sum)\n",
        "        \n",
        "        expected_mu = np.zeros((self.n_dims, self.n_states))\n",
        "        expected_covs = np.zeros((self.n_dims, self.n_dims, self.n_states))\n",
        "        \n",
        "        gamma_state_sum = np.sum(gamma, axis=1)\n",
        "        #Set zeros to 1 before dividing\n",
        "        gamma_state_sum = gamma_state_sum + (gamma_state_sum == 0)\n",
        "        \n",
        "        for s in range(self.n_states):\n",
        "            gamma_obs = obs * gamma[s, :]\n",
        "            expected_mu[:, s] = np.sum(gamma_obs, axis=1) / gamma_state_sum[s]\n",
        "            partial_covs = np.dot(gamma_obs, obs.T) / gamma_state_sum[s] - np.dot(expected_mu[:, s], expected_mu[:, s].T)\n",
        "            #Symmetrize\n",
        "            partial_covs = np.triu(partial_covs) + np.triu(partial_covs).T - np.diag(partial_covs)\n",
        "        \n",
        "        #Ensure positive semidefinite by adding diagonal loading\n",
        "        expected_covs += .01 * np.eye(self.n_dims)[:, :, None]\n",
        "        \n",
        "        self.prior = expected_prior\n",
        "        self.mu = expected_mu\n",
        "        self.covs = expected_covs\n",
        "        self.A = expected_A\n",
        "        return log_likelihood\n",
        "    \n",
        "    def fit(self, obs, n_iter=15):\n",
        "        #Support for 2D and 3D arrays\n",
        "        #2D should be n_features, n_dims\n",
        "        #3D should be n_examples, n_features, n_dims\n",
        "        #For example, with 6 features per speech segment, 105 different words\n",
        "        #this array should be size\n",
        "        #(105, 6, X) where X is the number of frames with features extracted\n",
        "        #For a single example file, the array should be size (6, X)\n",
        "        if len(obs.shape) == 2:\n",
        "            for i in range(n_iter):\n",
        "                self._em_init(obs)\n",
        "                log_likelihood = self._em_step(obs)\n",
        "        elif len(obs.shape) == 3:\n",
        "            count = obs.shape[0]\n",
        "            for n in range(count):\n",
        "                for i in range(n_iter):\n",
        "                    self._em_init(obs[n, :, :])\n",
        "                    log_likelihood = self._em_step(obs[n, :, :])\n",
        "        return self\n",
        "    \n",
        "    def transform(self, obs):\n",
        "        #Support for 2D and 3D arrays\n",
        "        #2D should be n_features, n_dims\n",
        "        #3D should be n_examples, n_features, n_dims\n",
        "        #For example, with 6 features per speech segment, 105 different words\n",
        "        #this array should be size\n",
        "        #(105, 6, X) where X is the number of frames with features extracted\n",
        "        #For a single example file, the array should be size (6, X)\n",
        "        if len(obs.shape) == 2:\n",
        "            B = self._state_likelihood(obs)\n",
        "            log_likelihood, _ = self._forward(B)\n",
        "            return log_likelihood\n",
        "        elif len(obs.shape) == 3:\n",
        "            count = obs.shape[0]\n",
        "            out = np.zeros((count,))\n",
        "            for n in range(count):\n",
        "                B = self._state_likelihood(obs[n, :, :])\n",
        "                log_likelihood, _ = self._forward(B)\n",
        "                out[n] = log_likelihood\n",
        "            return out\n"
      ],
      "execution_count": 0,
      "outputs": []
    },
    {
      "metadata": {
        "id": "DfaUfgGpK4uA",
        "colab_type": "code",
        "outputId": "242e08d2-f5ec-40f6-d08c-b2e210060da7",
        "colab": {
          "base_uri": "https://localhost:8080/",
          "height": 141
        }
      },
      "cell_type": "code",
      "source": [
        "file_path = '/content/drive/My Drive/hmm-speech-recognition-0.1/hmm-speech-recognition-0.1/audio/'\n",
        "\n",
        "\"\"\"# Data Path Read & Get Label's Name\"\"\"\n",
        "\n",
        "fpaths = []\n",
        "labels = []\n",
        "spoken = []\n",
        "for f in os.listdir(file_path):\n",
        "    for w in os.listdir(file_path + f):\n",
        "        fpaths.append(file_path + f + '/' + w)\n",
        "        labels.append(f)\n",
        "        if f not in spoken:\n",
        "            spoken.append(f)\n",
        "print('Words spoken:', spoken)\n",
        "\n",
        "data = np.zeros((len(fpaths), 32000))\n",
        "maxsize = -1\n",
        "for n,file in enumerate(fpaths):\n",
        "    d, _ = librosa.load(file, sr = 8000)\n",
        "    data[n, :d.shape[0]] = d\n",
        "    if d.shape[0] > maxsize:\n",
        "        maxsize = d.shape[0]\n",
        "data = data[:, :maxsize]\n",
        "\n",
        "print('Number of files total:', data.shape[0])\n",
        "all_labels = np.zeros(data.shape[0])\n",
        "for n, l in enumerate(set(labels)):\n",
        "    all_labels[np.array([i for i, _ in enumerate(labels) if _ == l])] = n\n",
        "    \n",
        "print('Labels and label indices', all_labels)\n"
      ],
      "execution_count": 0,
      "outputs": [
        {
          "output_type": "stream",
          "text": [
            "Words spoken: ['apple', 'banana', 'kiwi', 'lime', 'orange', 'peach', 'pineapple']\n",
            "Number of files total: 105\n",
            "Labels and label indices [4. 4. 4. 4. 4. 4. 4. 4. 4. 4. 4. 4. 4. 4. 4. 6. 6. 6. 6. 6. 6. 6. 6. 6.\n",
            " 6. 6. 6. 6. 6. 6. 1. 1. 1. 1. 1. 1. 1. 1. 1. 1. 1. 1. 1. 1. 1. 2. 2. 2.\n",
            " 2. 2. 2. 2. 2. 2. 2. 2. 2. 2. 2. 2. 3. 3. 3. 3. 3. 3. 3. 3. 3. 3. 3. 3.\n",
            " 3. 3. 3. 5. 5. 5. 5. 5. 5. 5. 5. 5. 5. 5. 5. 5. 5. 5. 0. 0. 0. 0. 0. 0.\n",
            " 0. 0. 0. 0. 0. 0. 0. 0. 0.]\n"
          ],
          "name": "stdout"
        }
      ]
    },
    {
      "metadata": {
        "id": "1gS576kfMhRy",
        "colab_type": "code",
        "outputId": "91926eec-0f01-4fe6-c0cf-5a5213ea3183",
        "colab": {
          "base_uri": "https://localhost:8080/",
          "height": 1153
        }
      },
      "cell_type": "code",
      "source": [
        "plt.plot(data[0, :], color='steelblue')\n",
        "plt.title('Timeseries example for %s'%labels[0])\n",
        "#plt.xlim(0, 3500)\n",
        "plt.xlabel('Time (samples)')\n",
        "plt.ylabel('Amplitude (signed 16 bit)')\n",
        "plt.figure()\n",
        "\n",
        "# MFCC\n",
        "mfcc_freq = librosa.feature.mfcc( S=calculate_melsp(data[20, :]), n_mfcc=25 )\n",
        "#mfcc_freq = mfcc_freq.T\n",
        "print(mfcc_freq.shape)\n",
        "librosa.display.specshow(mfcc_freq, sr=16000)# x_axis='time'\n",
        "plt.colorbar()\n",
        "plt.ylabel('Freq (bin)')\n",
        "plt.xlabel('Time (overlapped frames)')\n",
        "#plt.ylim(log_freq.shape[1])\n",
        "#plt.title('PSD of %s example'%labels[0])\n",
        "plt.show()\n",
        "\n",
        "plot_data = mfcc_freq[:,10]*1000\n",
        "values, locs = peakfind(plot_data, n_peaks=6)\n",
        "fp = locs[values > -1]\n",
        "fv = values[values > -1]\n",
        "plt.plot(plot_data, color='steelblue', marker='p')\n",
        "plt.plot(fp, fv, marker='o', color='darkred', linestyle='None')\n",
        "plt.title('Peak location example')\n",
        "plt.xlabel('Frequency (bins)')\n",
        "plt.ylabel('Amplitude')"
      ],
      "execution_count": 0,
      "outputs": [
        {
          "output_type": "stream",
          "text": [
            "/usr/local/lib/python3.6/dist-packages/librosa/filters.py:284: UserWarning: Empty filters detected in mel frequency basis. Some channels will produce empty responses. Try increasing your sampling rate (and fmax) or reducing n_mels.\n",
            "  warnings.warn('Empty filters detected in mel frequency basis. '\n"
          ],
          "name": "stderr"
        },
        {
          "output_type": "stream",
          "text": [
            "(25, 218)\n"
          ],
          "name": "stdout"
        },
        {
          "output_type": "display_data",
          "data": {
            "image/png": "[encoded data removed]",
            "text/plain": [
              "<Figure size 576x396 with 1 Axes>"
            ]
          },
          "metadata": {
            "tags": []
          }
        },
        {
          "output_type": "display_data",
          "data": {
            "image/png": "[encoded data removed]",
            "text/plain": [
              "<Figure size 576x396 with 2 Axes>"
            ]
          },
          "metadata": {
            "tags": []
          }
        },
        {
          "output_type": "execute_result",
          "data": {
            "text/plain": [
              "Text(0, 0.5, 'Amplitude')"
            ]
          },
          "metadata": {
            "tags": []
          },
          "execution_count": 7
        },
        {
          "output_type": "display_data",
          "data": {
            "image/png": "[encoded data removed]",
            "text/plain": [
              "<Figure size 576x396 with 1 Axes>"
            ]
          },
          "metadata": {
            "tags": []
          }
        }
      ]
    },
    {
      "metadata": {
        "id": "KwPIgvPKzSqO",
        "colab_type": "code",
        "outputId": "2adce33a-0e9f-493c-c105-68c801ee1a96",
        "colab": {
          "base_uri": "https://localhost:8080/",
          "height": 35
        }
      },
      "cell_type": "code",
      "source": [
        "6*3600/80"
      ],
      "execution_count": 0,
      "outputs": [
        {
          "output_type": "execute_result",
          "data": {
            "text/plain": [
              "270.0"
            ]
          },
          "metadata": {
            "tags": []
          },
          "execution_count": 8
        }
      ]
    },
    {
      "metadata": {
        "id": "zn18GY_7zZly",
        "colab_type": "code",
        "outputId": "cd1c6811-18a5-4394-f09a-a20cd2d6e2cb",
        "colab": {
          "base_uri": "https://localhost:8080/",
          "height": 35
        }
      },
      "cell_type": "code",
      "source": [
        "4*2*4*4"
      ],
      "execution_count": 0,
      "outputs": [
        {
          "output_type": "execute_result",
          "data": {
            "text/plain": [
              "128"
            ]
          },
          "metadata": {
            "tags": []
          },
          "execution_count": 11
        }
      ]
    },
    {
      "metadata": {
        "id": "NtAwkkFuUNxw",
        "colab_type": "code",
        "outputId": "282c93d2-9200-447f-c097-768f82e22c20",
        "colab": {
          "base_uri": "https://localhost:8080/",
          "height": 2348
        }
      },
      "cell_type": "code",
      "source": [
        "##peakfind(x, n_peaks, l_size=1, r_size=1, c_size=1, f=np.mean):\n",
        "##calculate_melsp(x, n_fft=64, hop_length=32):#1024,128:\n",
        "\n",
        "#n_fft_\n",
        "#n_sersiz\n",
        "#n_mfcc\n",
        "#n_dim\n",
        "\n",
        "n_rand = 3\n",
        "\n",
        "\n",
        "start = time.time()\n",
        "for n_fft_ in [32, 64, 128, 256]:\n",
        "    for n_sersiz in [1,2]:\n",
        "        for n_mfcc_ in [20,23,25,27]:\n",
        "            for n_dim in [4,5,6,7]:\n",
        "\n",
        "                all_obs = []\n",
        "                for i in range(data.shape[0]):\n",
        "                    d = librosa.feature.mfcc(S=calculate_melsp( data[i, :], \n",
        "                                                                n_fft=n_fft_, hop_length=int(n_fft_/ 2) ) , \n",
        "                                                                n_mfcc=n_mfcc_ )\n",
        "                    d = d.T\n",
        "                    #n_dim = 6\n",
        "                    obs = np.zeros((n_dim, d.shape[0]))\n",
        "                    for r in range(d.shape[0]):#\n",
        "                        _, t = peakfind(d[r, :], n_peaks=n_dim, l_size=n_sersiz, r_size=n_sersiz, c_size=n_sersiz)\n",
        "                        obs[:, r] = t.copy()\n",
        "                    #if i % 10 == 0:\n",
        "                        #print(\"Processed obs %s\" % i)\n",
        "                    all_obs.append(obs)\n",
        "\n",
        "                all_obs = np.atleast_3d(all_obs)\n",
        "\n",
        "                for n,i in enumerate(all_obs):\n",
        "                    all_obs[n] /= all_obs[n].sum(axis=0)\n",
        "                \n",
        "                \n",
        "                missed_list = []\n",
        "                for random_state_ in range(n_rand):\n",
        "                    X_train, X_test, y_train, y_test = train_test_split(all_obs, all_labels, test_size=0.1, random_state=random_state_)\n",
        "    \n",
        "                    #print('Size of training matrix:', X_train.shape)\n",
        "                    #print('Size of testing matrix:', X_test.shape)\n",
        "    \n",
        "                    ys = set(all_labels)\n",
        "                    ms = [gmmhmm(n_dim) for y in ys]\n",
        "                    _ = [m.fit(X_train[y_train == y, :, :]) for m, y in zip(ms, ys)]\n",
        "                    ps = [m.transform(X_test) for m in ms]\n",
        "                    res = np.vstack(ps)\n",
        "                    predicted_labels = np.argmax(res, axis=0)\n",
        "                    missed = (predicted_labels != y_test)\n",
        "                    missed_ = 100 * (1 - np.mean(missed))\n",
        "                    missed_list.append(missed_)\n",
        "                missed = np.mean(missed_list)\n",
        "                \n",
        "                elapsed_time = time.time() - start\n",
        "                print(\"elapsed_time:{0}\".format(elapsed_time) + \"[sec]   \" + ' n_fft_, n_sersiz:, n_mfcc:, n_dim:, Test acc:  %d, %d, %d, %d,  %.2f percent' % (n_fft_, n_sersiz, n_mfcc_, n_dim, missed))\n",
        "                \n"
      ],
      "execution_count": 0,
      "outputs": [
        {
          "output_type": "stream",
          "text": [
            "/usr/local/lib/python3.6/dist-packages/librosa/filters.py:284: UserWarning: Empty filters detected in mel frequency basis. Some channels will produce empty responses. Try increasing your sampling rate (and fmax) or reducing n_mels.\n",
            "  warnings.warn('Empty filters detected in mel frequency basis. '\n"
          ],
          "name": "stderr"
        },
        {
          "output_type": "stream",
          "text": [
            "elapsed_time:133.38605546951294[sec]    n_fft_, n_sersiz:, n_mfcc:, n_dim:, Test acc:  32, 1, 20, 4,  78.79 percent\n",
            "elapsed_time:266.68299674987793[sec]    n_fft_, n_sersiz:, n_mfcc:, n_dim:, Test acc:  32, 1, 20, 5,  66.67 percent\n",
            "elapsed_time:407.42569947242737[sec]    n_fft_, n_sersiz:, n_mfcc:, n_dim:, Test acc:  32, 1, 20, 6,  84.85 percent\n",
            "elapsed_time:653.7722735404968[sec]    n_fft_, n_sersiz:, n_mfcc:, n_dim:, Test acc:  32, 1, 20, 7,  81.82 percent\n",
            "elapsed_time:819.1879994869232[sec]    n_fft_, n_sersiz:, n_mfcc:, n_dim:, Test acc:  32, 1, 23, 4,  57.58 percent\n",
            "elapsed_time:1066.9861025810242[sec]    n_fft_, n_sersiz:, n_mfcc:, n_dim:, Test acc:  32, 1, 23, 5,  66.67 percent\n",
            "elapsed_time:1235.3285293579102[sec]    n_fft_, n_sersiz:, n_mfcc:, n_dim:, Test acc:  32, 1, 23, 6,  69.70 percent\n",
            "elapsed_time:1484.9888911247253[sec]    n_fft_, n_sersiz:, n_mfcc:, n_dim:, Test acc:  32, 1, 23, 7,  84.85 percent\n",
            "elapsed_time:1657.6895515918732[sec]    n_fft_, n_sersiz:, n_mfcc:, n_dim:, Test acc:  32, 1, 25, 4,  81.82 percent\n",
            "elapsed_time:1906.8303563594818[sec]    n_fft_, n_sersiz:, n_mfcc:, n_dim:, Test acc:  32, 1, 25, 5,  81.82 percent\n",
            "elapsed_time:2080.316942691803[sec]    n_fft_, n_sersiz:, n_mfcc:, n_dim:, Test acc:  32, 1, 25, 6,  63.64 percent\n",
            "elapsed_time:2331.8457250595093[sec]    n_fft_, n_sersiz:, n_mfcc:, n_dim:, Test acc:  32, 1, 25, 7,  72.73 percent\n",
            "elapsed_time:2507.599462032318[sec]    n_fft_, n_sersiz:, n_mfcc:, n_dim:, Test acc:  32, 1, 27, 4,  66.67 percent\n",
            "elapsed_time:2758.9133303165436[sec]    n_fft_, n_sersiz:, n_mfcc:, n_dim:, Test acc:  32, 1, 27, 5,  81.82 percent\n",
            "elapsed_time:2938.9446365833282[sec]    n_fft_, n_sersiz:, n_mfcc:, n_dim:, Test acc:  32, 1, 27, 6,  69.70 percent\n",
            "elapsed_time:3196.011134147644[sec]    n_fft_, n_sersiz:, n_mfcc:, n_dim:, Test acc:  32, 1, 27, 7,  72.73 percent\n",
            "elapsed_time:3345.898568868637[sec]    n_fft_, n_sersiz:, n_mfcc:, n_dim:, Test acc:  32, 2, 20, 4,  69.70 percent\n",
            "elapsed_time:3581.155022382736[sec]    n_fft_, n_sersiz:, n_mfcc:, n_dim:, Test acc:  32, 2, 20, 5,  57.58 percent\n",
            "elapsed_time:3734.301828145981[sec]    n_fft_, n_sersiz:, n_mfcc:, n_dim:, Test acc:  32, 2, 20, 6,  66.67 percent\n",
            "elapsed_time:3974.7320153713226[sec]    n_fft_, n_sersiz:, n_mfcc:, n_dim:, Test acc:  32, 2, 20, 7,  66.67 percent\n",
            "elapsed_time:4134.134991407394[sec]    n_fft_, n_sersiz:, n_mfcc:, n_dim:, Test acc:  32, 2, 23, 4,  60.61 percent\n",
            "elapsed_time:4375.890968084335[sec]    n_fft_, n_sersiz:, n_mfcc:, n_dim:, Test acc:  32, 2, 23, 5,  42.42 percent\n",
            "elapsed_time:4537.556606292725[sec]    n_fft_, n_sersiz:, n_mfcc:, n_dim:, Test acc:  32, 2, 23, 6,  66.67 percent\n",
            "elapsed_time:4784.412315130234[sec]    n_fft_, n_sersiz:, n_mfcc:, n_dim:, Test acc:  32, 2, 23, 7,  69.70 percent\n",
            "elapsed_time:4950.089528560638[sec]    n_fft_, n_sersiz:, n_mfcc:, n_dim:, Test acc:  32, 2, 25, 4,  87.88 percent\n",
            "elapsed_time:5192.544314146042[sec]    n_fft_, n_sersiz:, n_mfcc:, n_dim:, Test acc:  32, 2, 25, 5,  78.79 percent\n",
            "elapsed_time:5359.104108333588[sec]    n_fft_, n_sersiz:, n_mfcc:, n_dim:, Test acc:  32, 2, 25, 6,  87.88 percent\n",
            "elapsed_time:5606.491844892502[sec]    n_fft_, n_sersiz:, n_mfcc:, n_dim:, Test acc:  32, 2, 25, 7,  87.88 percent\n",
            "elapsed_time:5775.190056324005[sec]    n_fft_, n_sersiz:, n_mfcc:, n_dim:, Test acc:  32, 2, 27, 4,  60.61 percent\n",
            "elapsed_time:6020.269789934158[sec]    n_fft_, n_sersiz:, n_mfcc:, n_dim:, Test acc:  32, 2, 27, 5,  63.64 percent\n",
            "elapsed_time:6191.445971727371[sec]    n_fft_, n_sersiz:, n_mfcc:, n_dim:, Test acc:  32, 2, 27, 6,  66.67 percent\n",
            "elapsed_time:6441.932553291321[sec]    n_fft_, n_sersiz:, n_mfcc:, n_dim:, Test acc:  32, 2, 27, 7,  66.67 percent\n",
            "elapsed_time:6525.866838693619[sec]    n_fft_, n_sersiz:, n_mfcc:, n_dim:, Test acc:  64, 1, 20, 4,  48.48 percent\n",
            "elapsed_time:6655.798720598221[sec]    n_fft_, n_sersiz:, n_mfcc:, n_dim:, Test acc:  64, 1, 20, 5,  42.42 percent\n",
            "elapsed_time:6744.540564775467[sec]    n_fft_, n_sersiz:, n_mfcc:, n_dim:, Test acc:  64, 1, 20, 6,  60.61 percent\n",
            "elapsed_time:6877.15290927887[sec]    n_fft_, n_sersiz:, n_mfcc:, n_dim:, Test acc:  64, 1, 20, 7,  63.64 percent\n",
            "elapsed_time:6964.268938064575[sec]    n_fft_, n_sersiz:, n_mfcc:, n_dim:, Test acc:  64, 1, 23, 4,  48.48 percent\n",
            "elapsed_time:7094.707100868225[sec]    n_fft_, n_sersiz:, n_mfcc:, n_dim:, Test acc:  64, 1, 23, 5,  63.64 percent\n",
            "elapsed_time:7186.74159693718[sec]    n_fft_, n_sersiz:, n_mfcc:, n_dim:, Test acc:  64, 1, 23, 6,  63.64 percent\n",
            "elapsed_time:7319.796818733215[sec]    n_fft_, n_sersiz:, n_mfcc:, n_dim:, Test acc:  64, 1, 23, 7,  57.58 percent\n",
            "elapsed_time:7410.666574716568[sec]    n_fft_, n_sersiz:, n_mfcc:, n_dim:, Test acc:  64, 1, 25, 4,  42.42 percent\n",
            "elapsed_time:7541.6064574718475[sec]    n_fft_, n_sersiz:, n_mfcc:, n_dim:, Test acc:  64, 1, 25, 5,  60.61 percent\n",
            "elapsed_time:7635.025753259659[sec]    n_fft_, n_sersiz:, n_mfcc:, n_dim:, Test acc:  64, 1, 25, 6,  69.70 percent\n",
            "elapsed_time:7767.653070449829[sec]    n_fft_, n_sersiz:, n_mfcc:, n_dim:, Test acc:  64, 1, 25, 7,  75.76 percent\n",
            "elapsed_time:7860.336585998535[sec]    n_fft_, n_sersiz:, n_mfcc:, n_dim:, Test acc:  64, 1, 27, 4,  51.52 percent\n",
            "elapsed_time:7991.02051782608[sec]    n_fft_, n_sersiz:, n_mfcc:, n_dim:, Test acc:  64, 1, 27, 5,  51.52 percent\n",
            "elapsed_time:8086.247413635254[sec]    n_fft_, n_sersiz:, n_mfcc:, n_dim:, Test acc:  64, 1, 27, 6,  66.67 percent\n",
            "elapsed_time:8221.149400949478[sec]    n_fft_, n_sersiz:, n_mfcc:, n_dim:, Test acc:  64, 1, 27, 7,  75.76 percent\n",
            "elapsed_time:8301.646381855011[sec]    n_fft_, n_sersiz:, n_mfcc:, n_dim:, Test acc:  64, 2, 20, 4,  48.48 percent\n",
            "elapsed_time:8426.074183225632[sec]    n_fft_, n_sersiz:, n_mfcc:, n_dim:, Test acc:  64, 2, 20, 5,  51.52 percent\n",
            "elapsed_time:8507.870411634445[sec]    n_fft_, n_sersiz:, n_mfcc:, n_dim:, Test acc:  64, 2, 20, 6,  45.45 percent\n",
            "elapsed_time:8635.414674043655[sec]    n_fft_, n_sersiz:, n_mfcc:, n_dim:, Test acc:  64, 2, 20, 7,  48.48 percent\n",
            "elapsed_time:8718.72848367691[sec]    n_fft_, n_sersiz:, n_mfcc:, n_dim:, Test acc:  64, 2, 23, 4,  57.58 percent\n",
            "elapsed_time:8844.498765707016[sec]    n_fft_, n_sersiz:, n_mfcc:, n_dim:, Test acc:  64, 2, 23, 5,  48.48 percent\n",
            "elapsed_time:8930.317425012589[sec]    n_fft_, n_sersiz:, n_mfcc:, n_dim:, Test acc:  64, 2, 23, 6,  60.61 percent\n",
            "elapsed_time:9060.770136833191[sec]    n_fft_, n_sersiz:, n_mfcc:, n_dim:, Test acc:  64, 2, 23, 7,  60.61 percent\n",
            "elapsed_time:9147.853130102158[sec]    n_fft_, n_sersiz:, n_mfcc:, n_dim:, Test acc:  64, 2, 25, 4,  51.52 percent\n",
            "elapsed_time:9276.434765815735[sec]    n_fft_, n_sersiz:, n_mfcc:, n_dim:, Test acc:  64, 2, 25, 5,  63.64 percent\n",
            "elapsed_time:9366.840563774109[sec]    n_fft_, n_sersiz:, n_mfcc:, n_dim:, Test acc:  64, 2, 25, 6,  57.58 percent\n",
            "elapsed_time:9497.952489376068[sec]    n_fft_, n_sersiz:, n_mfcc:, n_dim:, Test acc:  64, 2, 25, 7,  54.55 percent\n",
            "elapsed_time:9587.626945018768[sec]    n_fft_, n_sersiz:, n_mfcc:, n_dim:, Test acc:  64, 2, 27, 4,  33.33 percent\n",
            "elapsed_time:9717.907159805298[sec]    n_fft_, n_sersiz:, n_mfcc:, n_dim:, Test acc:  64, 2, 27, 5,  24.24 percent\n",
            "elapsed_time:9809.340205669403[sec]    n_fft_, n_sersiz:, n_mfcc:, n_dim:, Test acc:  64, 2, 27, 6,  42.42 percent\n",
            "elapsed_time:9942.301801204681[sec]    n_fft_, n_sersiz:, n_mfcc:, n_dim:, Test acc:  64, 2, 27, 7,  42.42 percent\n",
            "elapsed_time:10003.139174461365[sec]    n_fft_, n_sersiz:, n_mfcc:, n_dim:, Test acc:  128, 1, 20, 4,  48.48 percent\n",
            "elapsed_time:10073.238894701004[sec]    n_fft_, n_sersiz:, n_mfcc:, n_dim:, Test acc:  128, 1, 20, 5,  30.30 percent\n",
            "elapsed_time:10119.571646213531[sec]    n_fft_, n_sersiz:, n_mfcc:, n_dim:, Test acc:  128, 1, 20, 6,  54.55 percent\n",
            "elapsed_time:10193.277745723724[sec]    n_fft_, n_sersiz:, n_mfcc:, n_dim:, Test acc:  128, 1, 20, 7,  60.61 percent\n",
            "elapsed_time:10238.734925031662[sec]    n_fft_, n_sersiz:, n_mfcc:, n_dim:, Test acc:  128, 1, 23, 4,  51.52 percent\n",
            "elapsed_time:10311.697823047638[sec]    n_fft_, n_sersiz:, n_mfcc:, n_dim:, Test acc:  128, 1, 23, 5,  45.45 percent\n",
            "elapsed_time:10359.22489786148[sec]    n_fft_, n_sersiz:, n_mfcc:, n_dim:, Test acc:  128, 1, 23, 6,  57.58 percent\n",
            "elapsed_time:10434.912541866302[sec]    n_fft_, n_sersiz:, n_mfcc:, n_dim:, Test acc:  128, 1, 23, 7,  72.73 percent\n",
            "elapsed_time:10481.654960870743[sec]    n_fft_, n_sersiz:, n_mfcc:, n_dim:, Test acc:  128, 1, 25, 4,  45.45 percent\n",
            "elapsed_time:10554.784096479416[sec]    n_fft_, n_sersiz:, n_mfcc:, n_dim:, Test acc:  128, 1, 25, 5,  51.52 percent\n",
            "elapsed_time:10604.016375780106[sec]    n_fft_, n_sersiz:, n_mfcc:, n_dim:, Test acc:  128, 1, 25, 6,  51.52 percent\n",
            "elapsed_time:10680.2324385643[sec]    n_fft_, n_sersiz:, n_mfcc:, n_dim:, Test acc:  128, 1, 25, 7,  51.52 percent\n",
            "elapsed_time:10728.214661359787[sec]    n_fft_, n_sersiz:, n_mfcc:, n_dim:, Test acc:  128, 1, 27, 4,  51.52 percent\n",
            "elapsed_time:10802.166676521301[sec]    n_fft_, n_sersiz:, n_mfcc:, n_dim:, Test acc:  128, 1, 27, 5,  39.39 percent\n",
            "elapsed_time:10851.954997301102[sec]    n_fft_, n_sersiz:, n_mfcc:, n_dim:, Test acc:  128, 1, 27, 6,  54.55 percent\n",
            "elapsed_time:10929.982383012772[sec]    n_fft_, n_sersiz:, n_mfcc:, n_dim:, Test acc:  128, 1, 27, 7,  51.52 percent\n",
            "elapsed_time:10971.549551486969[sec]    n_fft_, n_sersiz:, n_mfcc:, n_dim:, Test acc:  128, 2, 20, 4,  57.58 percent\n",
            "elapsed_time:11040.37803030014[sec]    n_fft_, n_sersiz:, n_mfcc:, n_dim:, Test acc:  128, 2, 20, 5,  54.55 percent\n",
            "elapsed_time:11084.339324235916[sec]    n_fft_, n_sersiz:, n_mfcc:, n_dim:, Test acc:  128, 2, 20, 6,  63.64 percent\n",
            "elapsed_time:11155.90108036995[sec]    n_fft_, n_sersiz:, n_mfcc:, n_dim:, Test acc:  128, 2, 20, 7,  60.61 percent\n",
            "elapsed_time:11199.830988407135[sec]    n_fft_, n_sersiz:, n_mfcc:, n_dim:, Test acc:  128, 2, 23, 4,  48.48 percent\n",
            "elapsed_time:11272.186002492905[sec]    n_fft_, n_sersiz:, n_mfcc:, n_dim:, Test acc:  128, 2, 23, 5,  60.61 percent\n",
            "elapsed_time:11318.276485204697[sec]    n_fft_, n_sersiz:, n_mfcc:, n_dim:, Test acc:  128, 2, 23, 6,  75.76 percent\n",
            "elapsed_time:11391.89130806923[sec]    n_fft_, n_sersiz:, n_mfcc:, n_dim:, Test acc:  128, 2, 23, 7,  75.76 percent\n",
            "elapsed_time:11436.743386030197[sec]    n_fft_, n_sersiz:, n_mfcc:, n_dim:, Test acc:  128, 2, 25, 4,  54.55 percent\n",
            "elapsed_time:11508.403120994568[sec]    n_fft_, n_sersiz:, n_mfcc:, n_dim:, Test acc:  128, 2, 25, 5,  57.58 percent\n",
            "elapsed_time:11555.857150316238[sec]    n_fft_, n_sersiz:, n_mfcc:, n_dim:, Test acc:  128, 2, 25, 6,  60.61 percent\n",
            "elapsed_time:11630.928496360779[sec]    n_fft_, n_sersiz:, n_mfcc:, n_dim:, Test acc:  128, 2, 25, 7,  57.58 percent\n",
            "elapsed_time:11677.694154262543[sec]    n_fft_, n_sersiz:, n_mfcc:, n_dim:, Test acc:  128, 2, 27, 4,  54.55 percent\n",
            "elapsed_time:11750.72668337822[sec]    n_fft_, n_sersiz:, n_mfcc:, n_dim:, Test acc:  128, 2, 27, 5,  48.48 percent\n",
            "elapsed_time:11799.824871063232[sec]    n_fft_, n_sersiz:, n_mfcc:, n_dim:, Test acc:  128, 2, 27, 6,  60.61 percent\n",
            "elapsed_time:11876.935419559479[sec]    n_fft_, n_sersiz:, n_mfcc:, n_dim:, Test acc:  128, 2, 27, 7,  63.64 percent\n",
            "elapsed_time:11902.11453461647[sec]    n_fft_, n_sersiz:, n_mfcc:, n_dim:, Test acc:  256, 1, 20, 4,  57.58 percent\n",
            "elapsed_time:11942.528368234634[sec]    n_fft_, n_sersiz:, n_mfcc:, n_dim:, Test acc:  256, 1, 20, 5,  27.27 percent\n",
            "elapsed_time:11970.024648427963[sec]    n_fft_, n_sersiz:, n_mfcc:, n_dim:, Test acc:  256, 1, 20, 6,  54.55 percent\n",
            "elapsed_time:12013.204265594482[sec]    n_fft_, n_sersiz:, n_mfcc:, n_dim:, Test acc:  256, 1, 20, 7,  63.64 percent\n",
            "elapsed_time:12039.70312666893[sec]    n_fft_, n_sersiz:, n_mfcc:, n_dim:, Test acc:  256, 1, 23, 4,  51.52 percent\n",
            "elapsed_time:12080.530105113983[sec]    n_fft_, n_sersiz:, n_mfcc:, n_dim:, Test acc:  256, 1, 23, 5,  36.36 percent\n",
            "elapsed_time:12108.933027744293[sec]    n_fft_, n_sersiz:, n_mfcc:, n_dim:, Test acc:  256, 1, 23, 6,  51.52 percent\n",
            "elapsed_time:12153.980165719986[sec]    n_fft_, n_sersiz:, n_mfcc:, n_dim:, Test acc:  256, 1, 23, 7,  45.45 percent\n",
            "elapsed_time:12180.325001478195[sec]    n_fft_, n_sersiz:, n_mfcc:, n_dim:, Test acc:  256, 1, 25, 4,  27.27 percent\n",
            "elapsed_time:12222.014377832413[sec]    n_fft_, n_sersiz:, n_mfcc:, n_dim:, Test acc:  256, 1, 25, 5,  39.39 percent\n",
            "elapsed_time:12250.870265960693[sec]    n_fft_, n_sersiz:, n_mfcc:, n_dim:, Test acc:  256, 1, 25, 6,  48.48 percent\n",
            "elapsed_time:12295.036431074142[sec]    n_fft_, n_sersiz:, n_mfcc:, n_dim:, Test acc:  256, 1, 25, 7,  48.48 percent\n",
            "elapsed_time:12323.28575539589[sec]    n_fft_, n_sersiz:, n_mfcc:, n_dim:, Test acc:  256, 1, 27, 4,  60.61 percent\n",
            "elapsed_time:12365.52991104126[sec]    n_fft_, n_sersiz:, n_mfcc:, n_dim:, Test acc:  256, 1, 27, 5,  48.48 percent\n",
            "elapsed_time:12395.165403604507[sec]    n_fft_, n_sersiz:, n_mfcc:, n_dim:, Test acc:  256, 1, 27, 6,  63.64 percent\n",
            "elapsed_time:12439.635447978973[sec]    n_fft_, n_sersiz:, n_mfcc:, n_dim:, Test acc:  256, 1, 27, 7,  60.61 percent\n",
            "elapsed_time:12464.719025611877[sec]    n_fft_, n_sersiz:, n_mfcc:, n_dim:, Test acc:  256, 2, 20, 4,  27.27 percent\n",
            "elapsed_time:12503.787809848785[sec]    n_fft_, n_sersiz:, n_mfcc:, n_dim:, Test acc:  256, 2, 20, 5,  45.45 percent\n",
            "elapsed_time:12529.835834503174[sec]    n_fft_, n_sersiz:, n_mfcc:, n_dim:, Test acc:  256, 2, 20, 6,  36.36 percent\n",
            "elapsed_time:12571.999287605286[sec]    n_fft_, n_sersiz:, n_mfcc:, n_dim:, Test acc:  256, 2, 20, 7,  36.36 percent\n",
            "elapsed_time:12596.756551265717[sec]    n_fft_, n_sersiz:, n_mfcc:, n_dim:, Test acc:  256, 2, 23, 4,  45.45 percent\n",
            "elapsed_time:12636.670928239822[sec]    n_fft_, n_sersiz:, n_mfcc:, n_dim:, Test acc:  256, 2, 23, 5,  69.70 percent\n",
            "elapsed_time:12663.68497133255[sec]    n_fft_, n_sersiz:, n_mfcc:, n_dim:, Test acc:  256, 2, 23, 6,  63.64 percent\n",
            "elapsed_time:12706.68271446228[sec]    n_fft_, n_sersiz:, n_mfcc:, n_dim:, Test acc:  256, 2, 23, 7,  66.67 percent\n",
            "elapsed_time:12732.731095075607[sec]    n_fft_, n_sersiz:, n_mfcc:, n_dim:, Test acc:  256, 2, 25, 4,  39.39 percent\n",
            "elapsed_time:12773.87623333931[sec]    n_fft_, n_sersiz:, n_mfcc:, n_dim:, Test acc:  256, 2, 25, 5,  39.39 percent\n",
            "elapsed_time:12801.882446050644[sec]    n_fft_, n_sersiz:, n_mfcc:, n_dim:, Test acc:  256, 2, 25, 6,  54.55 percent\n",
            "elapsed_time:12845.522964477539[sec]    n_fft_, n_sersiz:, n_mfcc:, n_dim:, Test acc:  256, 2, 25, 7,  51.52 percent\n",
            "elapsed_time:12872.29066324234[sec]    n_fft_, n_sersiz:, n_mfcc:, n_dim:, Test acc:  256, 2, 27, 4,  54.55 percent\n",
            "elapsed_time:12913.332770347595[sec]    n_fft_, n_sersiz:, n_mfcc:, n_dim:, Test acc:  256, 2, 27, 5,  60.61 percent\n",
            "elapsed_time:12941.862838983536[sec]    n_fft_, n_sersiz:, n_mfcc:, n_dim:, Test acc:  256, 2, 27, 6,  69.70 percent\n",
            "elapsed_time:12986.182692050934[sec]    n_fft_, n_sersiz:, n_mfcc:, n_dim:, Test acc:  256, 2, 27, 7,  60.61 percent\n"
          ],
          "name": "stdout"
        }
      ]
    },
    {
      "metadata": {
        "id": "SpEaPoBsxdh-",
        "colab_type": "code",
        "colab": {}
      },
      "cell_type": "code",
      "source": [
        "\"\"\"\"\"\"\n",
        "elapsed_time:4950.089528560638[sec]    n_fft_, n_sersiz:, n_mfcc:, n_dim:, Test acc:  32, 2, 25, 4,  87.88 percent\n",
        "elapsed_time:5192.544314146042[sec]    n_fft_, n_sersiz:, n_mfcc:, n_dim:, Test acc:  32, 2, 25, 5,  78.79 percent\n",
        "elapsed_time:5359.104108333588[sec]    n_fft_, n_sersiz:, n_mfcc:, n_dim:, Test acc:  32, 2, 25, 6,  87.88 percent\n",
        "elapsed_time:5606.491844892502[sec]    n_fft_, n_sersiz:, n_mfcc:, n_dim:, Test acc:  32, 2, 25, 7,  87.88 percent\n",
        "\"\"\"\"\"\""
      ],
      "execution_count": 0,
      "outputs": []
    },
    {
      "metadata": {
        "id": "eNsagvpOJQW4",
        "colab_type": "code",
        "colab": {}
      },
      "cell_type": "code",
      "source": [
        "\"\"\"MFCC\"\"\"\n",
        "all_obs = []\n",
        "for i in range(data.shape[0]):\n",
        "    d = librosa.feature.mfcc( S=calculate_melsp(data[i, :]), n_mfcc=25 )#calculate_melsp(data_list[i])\n",
        "    d=d.T\n",
        "    n_dim = 6\n",
        "    obs = np.zeros((n_dim, d.shape[0]))\n",
        "    for r in range(d.shape[0]):#\n",
        "        _, t = peakfind(d[r, :], n_peaks=n_dim)\n",
        "        obs[:, r] = t.copy()\n",
        "    if i % 10 == 0:\n",
        "        print(\"Processed obs %s\" % i)\n",
        "    all_obs.append(obs)\n",
        "    \n",
        "all_obs = np.atleast_3d(all_obs)\n",
        "\n",
        "\"\"\"ΔMFCC\"\"\"\n",
        "\n",
        "delta_mfcc  = librosa.feature.delta(mfcc_freq, order=2)\n",
        "\n",
        "plot_data = delta_mfcc[:,15]*1000\n",
        "values, locs = peakfind(plot_data, n_peaks=6)\n",
        "fp = locs[values > -1]\n",
        "fv = values[values > -1]\n",
        "plt.plot(plot_data, color='steelblue', marker='p')\n",
        "plt.plot(fp, fv, marker='o', color='darkred', linestyle='None')\n",
        "plt.title('Peak location example')\n",
        "plt.xlabel('Frequency (bins)')\n",
        "plt.ylabel('Amplitude')\n",
        "\n",
        "all_obs = []\n",
        "for i in range(data.shape[0]):\n",
        "    d = librosa.feature.mfcc( S=calculate_melsp(data[i, :]), n_mfcc=25 )#calculate_melsp(data_list[i])\n",
        "    d = librosa.feature.delta(d, order=2)\n",
        "    d = d.T\n",
        "    n_dim = 6\n",
        "    obs = np.zeros((n_dim, d.shape[0]))\n",
        "    for r in range(d.shape[0]):\n",
        "        _, t = peakfind(d[r, :], n_peaks=n_dim)\n",
        "        obs[:, r] = t.copy()\n",
        "    if i % 10 == 0:\n",
        "        print(\"Processed obs %s\" % i)\n",
        "    all_obs.append(obs)\n",
        "    \n",
        "all_obs = np.atleast_3d(all_obs)\n",
        "\n",
        "\"\"\"MFCC + ΔMFCC + ΔΔMFCC\"\"\"\n",
        "\n",
        "all_obs = []\n",
        "for i in range(data.shape[0]):\n",
        "    d  = librosa.feature.mfcc( S=calculate_melsp(data[i, :]), n_mfcc=20 )#calculate_melsp(data_list[i])\n",
        "    dd = librosa.feature.delta(d)\n",
        "    ddd= librosa.feature.delta(d, order=2) \n",
        "    d  = d.T\n",
        "    dd =dd.T\n",
        "    ddd=ddd.T\n",
        "    \n",
        "    n_dim = 8\n",
        "    obs = np.zeros((n_dim, d.shape[0]))\n",
        "    for r in range(d.shape[0]):  #Time loop (Flame)\n",
        "        _, t   = peakfind( d[r, :], n_peaks=6)\n",
        "        _, td  = peakfind(dd[r, :], n_peaks=1)\n",
        "        _, tdd = peakfind(dd[r, :], n_peaks=1)           \n",
        "        t = np.concatenate([t, td, tdd])\n",
        "        \n",
        "        obs[:, r] = t.copy()\n",
        "    if i % 10 == 0:\n",
        "        print(\"Processed obs %s\" % i)\n",
        "    all_obs.append(obs)\n",
        "    \n",
        "all_obs = np.atleast_3d(all_obs)"
      ],
      "execution_count": 0,
      "outputs": []
    },
    {
      "metadata": {
        "id": "MlUe0x8WW_Dj",
        "colab_type": "code",
        "colab": {}
      },
      "cell_type": "code",
      "source": [
        "from sklearn.metrics import confusion_matrix\n",
        "cm = confusion_matrix(y_test, predicted_labels)\n",
        "plt.matshow(cm, cmap='gray')\n",
        "ax = plt.gca()\n",
        "_ = ax.set_xticklabels([\" \"] + [l[:2] for l in spoken])\n",
        "_ = ax.set_yticklabels([\" \"] + spoken)\n",
        "plt.title('Confusion matrix, single speaker')\n",
        "plt.ylabel('True label')\n",
        "plt.xlabel('Predicted label')\n"
      ],
      "execution_count": 0,
      "outputs": []
    }
  ]
}